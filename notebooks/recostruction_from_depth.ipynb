{
 "cells": [
  {
   "cell_type": "code",
   "execution_count": 1,
   "metadata": {},
   "outputs": [
    {
     "name": "stdout",
     "output_type": "stream",
     "text": [
      "['/opt/anaconda3/envs/myenv/lib/python311.zip', '/opt/anaconda3/envs/myenv/lib/python3.11', '/opt/anaconda3/envs/myenv/lib/python3.11/lib-dynload', '', '/opt/anaconda3/envs/myenv/lib/python3.11/site-packages', '/Users/cmazzoleni/Documents/GitHub/Hierarchical-Localization/Hierarchical-Localization/Hierarchical-Localization', '/Users/cmazzoleni/Documents/GitHub/SemesterProjectETH']\n"
     ]
    }
   ],
   "source": [
    "import os\n",
    "import sys\n",
    "# Define the path to the project root directory (one level above `src`)\n",
    "project_root_path = \"/Users/cmazzoleni/Documents/GitHub/SemesterProjectETH\"\n",
    "\n",
    "# Add the src directory to sys.path\n",
    "sys.path.append(os.path.join(project_root_path))\n",
    "\n",
    "# Verify that src is in sys.path\n",
    "print(sys.path)\n",
    "import os\n",
    "import argparse\n",
    "from src.utils.dataset_utils import create_directory\n",
    "from src.visualizers.Open3dVisualizer import Open3DVisualizer\n",
    "from src.utils.json_utils import load_cuboid_data\n",
    "from src.utils.plotting_utils import load_mesh_data, load_pointcloud_data\n",
    "from src.scripts.preprocessing_data.data_to_6views_utils import process_file\n",
    "import numpy as np\n",
    "from PIL import Image\n",
    "import open3d as o3d"
   ]
  },
  {
   "cell_type": "code",
   "execution_count": 2,
   "metadata": {},
   "outputs": [
    {
     "name": "stdout",
     "output_type": "stream",
     "text": [
      "\u001b[1;33m[Open3D WARNING] GLFW Error: Cocoa: Failed to find service port for display\u001b[0;m\n",
      "\u001b[1;33m[Open3D WARNING] GLFW Error: Cocoa: Failed to find service port for display\u001b[0;m\n",
      "['__abstractmethods__', '__class__', '__delattr__', '__dict__', '__dir__', '__doc__', '__eq__', '__format__', '__ge__', '__getattribute__', '__getstate__', '__gt__', '__hash__', '__init__', '__init_subclass__', '__le__', '__lt__', '__module__', '__ne__', '__new__', '__reduce__', '__reduce_ex__', '__repr__', '__setattr__', '__sizeof__', '__slots__', '__str__', '__subclasshook__', '__weakref__', '_abc_impl', 'add_complete_cuboid', 'add_geometry', 'add_pointcloud', 'add_superquadric', 'capture_front_depth', 'capture_front_picture', 'capture_single_view', 'clear_scene', 'close', 'save_cube_map_screenshots', 'save_views', 'setup_render_options', 'show', 'vis', 'window_height', 'window_width']\n",
      "Saved depth image to front_view_depth_mesh.png\n"
     ]
    }
   ],
   "source": [
    "visualizer = Open3DVisualizer()\n",
    "print(dir(visualizer))\n",
    "\n",
    "mesh_path = \"/Users/cmazzoleni/Documents/GitHub/SemesterProjectETH/data/raw/03001627/185bcb9bcec174c9492d9da2668ec34c/models/model_normalized.obj\"\n",
    "mesh = o3d.io.read_triangle_mesh(mesh_path)\n",
    "visualizer.vis.add_geometry(mesh)\n",
    "\n",
    "front_view_direction = [0, 0, -1]  # Front view direction (camera looking towards -z)\n",
    "output_filename = \"front_view_depth_mesh.png\"\n",
    "depth_o3d_filename = \"front_view_depth_o3d_mesh.png\"\n",
    "    \n",
    "visualizer.capture_single_view(front_view_direction, depth_o3d_filename, output_filename, save_depth=True)\n",
    "    \n"
   ]
  },
  {
   "cell_type": "code",
   "execution_count": 7,
   "metadata": {},
   "outputs": [
    {
     "name": "stdout",
     "output_type": "stream",
     "text": [
      "Depth image type: uint16\n",
      "Depth image shape: (800, 800)\n",
      "Reconstructed point cloud saved to reconstructed_pointcloud.ply\n",
      "\u001b[1;33m[Open3D WARNING] GLFW Error: Cocoa: Failed to find service port for display\u001b[0;m\n"
     ]
    },
    {
     "ename": "",
     "evalue": "",
     "output_type": "error",
     "traceback": [
      "\u001b[1;31mSi è verificato un arresto anomalo del Kernel durante l'esecuzione del codice nella cella attiva o in una cella precedente. \n",
      "\u001b[1;31mEsaminare il codice nelle celle per identificare una possibile causa dell'errore. \n",
      "\u001b[1;31mPer altre informazioni, fare clic<a href='https://aka.ms/vscodeJupyterKernelCrash'>qui</a>. \n",
      "\u001b[1;31mPer ulteriori dettagli, visualizzare Jupyter <a href='command:jupyter.viewOutput'>log</a>."
     ]
    }
   ],
   "source": [
    "import open3d as o3d\n",
    "import numpy as np\n",
    "\n",
    "def reconstruct_from_depth(depth_filename, width, height, fx, fy, cx, cy, output_pointcloud_filename):\n",
    "    # Load the saved raw depth image (not normalized)\n",
    "    depth_image = o3d.io.read_image(depth_filename)\n",
    "    depth_np = np.asarray(depth_image)\n",
    "\n",
    "    # Print the data type and shape of the depth image\n",
    "    print(f\"Depth image type: {depth_np.dtype}\")\n",
    "    print(f\"Depth image shape: {depth_np.shape}\")\n",
    "\n",
    "    # Create an intrinsic matrix for the camera\n",
    "    intrinsic = o3d.camera.PinholeCameraIntrinsic(width, height, fx, fy, cx, cy)\n",
    "\n",
    "    # Convert the depth image to a point cloud\n",
    "    pcd = o3d.geometry.PointCloud.create_from_depth_image(\n",
    "        depth_image, intrinsic, extrinsic=np.identity(4), depth_scale=1000.0\n",
    "    )\n",
    "\n",
    "    # Save the reconstructed point cloud to a file\n",
    "    o3d.io.write_point_cloud(output_pointcloud_filename, pcd)\n",
    "    print(f\"Reconstructed point cloud saved to {output_pointcloud_filename}\")\n",
    "\n",
    "    # Visualize the point cloud\n",
    "    o3d.visualization.draw_geometries([pcd])\n",
    "\n",
    "# Example parameters\n",
    "depth_filename = \"try_decode_input_mult_noclip.png\"  # The raw depth image file\n",
    "output_pointcloud_filename = \"reconstructed_pointcloud.ply\"\n",
    "\n",
    "# Intrinsic parameters (adjust based on your setup)\n",
    "width = 800  # Image width\n",
    "height = 800  # Image height\n",
    "fx = 692.82  # Focal length in x direction\n",
    "fy = 692.82  # Focal length in y direction\n",
    "cx = width / 2.0  # Principal point in x direction\n",
    "cy = height / 2.0  # Principal point in y direction\n",
    "\n",
    "# Call the reconstruction function\n",
    "reconstruct_from_depth(depth_filename, width, height, fx, fy, cx, cy, output_pointcloud_filename)\n",
    "\n"
   ]
  },
  {
   "cell_type": "code",
   "execution_count": 5,
   "metadata": {},
   "outputs": [
    {
     "name": "stdout",
     "output_type": "stream",
     "text": [
      "Depth image shape: (800, 800)\n",
      "Min depth value: 0\n",
      "Max depth value: 1207\n",
      "Depth image dtype: uint16\n"
     ]
    }
   ],
   "source": [
    "def inspect_depth_image(depth_filename):\n",
    "    # Load the depth image using Open3D\n",
    "    depth_image = o3d.io.read_image(depth_filename)\n",
    "\n",
    "    # Convert to a NumPy array for easy inspection\n",
    "    depth_array = np.asarray(depth_image)\n",
    "\n",
    "    # Inspect properties\n",
    "    print(f\"Depth image shape: {depth_array.shape}\")\n",
    "    print(f\"Min depth value: {depth_array.min()}\")\n",
    "    print(f\"Max depth value: {depth_array.max()}\")\n",
    "    print(f\"Depth image dtype: {depth_array.dtype}\")\n",
    "\n",
    "    return depth_array\n",
    "\n",
    "# Example usage\n",
    "depth_filename = \"front_view_depth_o3d.png\"\n",
    "depth_array = inspect_depth_image(depth_filename)"
   ]
  },
  {
   "cell_type": "code",
   "execution_count": 2,
   "metadata": {},
   "outputs": [
    {
     "name": "stdout",
     "output_type": "stream",
     "text": [
      "\u001b[1;33m[Open3D WARNING] GLFW Error: Cocoa: Failed to find service port for display\u001b[0;m\n",
      "\u001b[1;33m[Open3D WARNING] GLFW Error: Cocoa: Failed to find service port for display\u001b[0;m\n",
      "Saved depth image to front_view_depth_cuboid.png\n"
     ]
    }
   ],
   "source": [
    "visualizer = Open3DVisualizer()\n",
    "\n",
    "cuboid_path = \"/Users/cmazzoleni/Documents/GitHub/SemesterProjectETH/data/processed/chair_cuboid_json/185bcb9bcec174c9492d9da2668ec34c.json\"\n",
    "cuboid_data = load_cuboid_data(cuboid_path)\n",
    "visualizer.add_complete_cuboid(cuboid_data)\n",
    "front_view_direction = [0, 0, -1]  # Front view direction (camera looking towards -z)\n",
    "output_filename = \"front_view_depth_cuboid.png\"\n",
    "depth_o3d_filename = \"front_view_depth_o3d_cuboid.png\"\n",
    "    \n",
    "visualizer.capture_single_view(front_view_direction, depth_o3d_filename, output_filename, save_depth=True)\n",
    "    \n",
    "\n"
   ]
  },
  {
   "cell_type": "code",
   "execution_count": 9,
   "metadata": {},
   "outputs": [],
   "source": [
    "image = Image.open(\"front_view_depth_o3d.png\")"
   ]
  },
  {
   "cell_type": "code",
   "execution_count": 10,
   "metadata": {},
   "outputs": [
    {
     "name": "stdout",
     "output_type": "stream",
     "text": [
      "(800, 800)\n",
      "I;16\n",
      "PNG\n",
      "(0, 1207)\n"
     ]
    },
    {
     "ename": "",
     "evalue": "",
     "output_type": "error",
     "traceback": [
      "\u001b[1;31mSi è verificato un arresto anomalo del Kernel durante l'esecuzione del codice nella cella attiva o in una cella precedente. \n",
      "\u001b[1;31mEsaminare il codice nelle celle per identificare una possibile causa dell'errore. \n",
      "\u001b[1;31mPer altre informazioni, fare clic<a href='https://aka.ms/vscodeJupyterKernelCrash'>qui</a>. \n",
      "\u001b[1;31mPer ulteriori dettagli, visualizzare Jupyter <a href='command:jupyter.viewOutput'>log</a>."
     ]
    }
   ],
   "source": [
    "print(image.size)\n",
    "print(image.mode)   \n",
    "print(image.format)\n",
    "print(image.getextrema())\n",
    "\n",
    "#visualize the image\n",
    "image.show()"
   ]
  },
  {
   "cell_type": "code",
   "execution_count": 17,
   "metadata": {},
   "outputs": [
    {
     "name": "stdout",
     "output_type": "stream",
     "text": [
      "\u001b[1;33m[Open3D WARNING] The number of points is 0 when creating axis-aligned bounding box.\u001b[0;m\n",
      "\u001b[1;33m[Open3D WARNING] GLFW Error: Cocoa: Failed to find service port for display\u001b[0;m\n",
      "\u001b[1;33m[Open3D WARNING] GLFW Error: Cocoa: Failed to find service port for display\u001b[0;m\n"
     ]
    }
   ],
   "source": []
  }
 ],
 "metadata": {
  "kernelspec": {
   "display_name": "myenv",
   "language": "python",
   "name": "python3"
  },
  "language_info": {
   "codemirror_mode": {
    "name": "ipython",
    "version": 3
   },
   "file_extension": ".py",
   "mimetype": "text/x-python",
   "name": "python",
   "nbconvert_exporter": "python",
   "pygments_lexer": "ipython3",
   "version": "3.11.0"
  }
 },
 "nbformat": 4,
 "nbformat_minor": 2
}
