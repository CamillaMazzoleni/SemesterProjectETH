{
 "cells": [
  {
   "cell_type": "code",
   "execution_count": 2,
   "metadata": {},
   "outputs": [
    {
     "name": "stdout",
     "output_type": "stream",
     "text": [
      "['/opt/anaconda3/lib/python311.zip', '/opt/anaconda3/lib/python3.11', '/opt/anaconda3/lib/python3.11/lib-dynload', '', '/Users/cmazzoleni/Documents/GitHub/PrimitiveDifformation/primitivedifformation_venv/lib/python3.11/site-packages', '/Users/cmazzoleni/Documents/GitHub/CuboidAbstractionViaSeg', '/Users/cmazzoleni/Documents/GitHub/CuboidAbstractionViaSeg']\n"
     ]
    }
   ],
   "source": [
    "import os\n",
    "import sys\n",
    "# Define the path to the project root directory (one level above `src`)\n",
    "project_root_path = \"/Users/cmazzoleni/Documents/GitHub/CuboidAbstractionViaSeg\"\n",
    "\n",
    "# Add the src directory to sys.path\n",
    "sys.path.append(os.path.join(project_root_path))\n",
    "\n",
    "# Verify that src is in sys.path\n",
    "print(sys.path)\n",
    "import os\n",
    "import argparse\n",
    "from src.utils.dataset_utils import create_directory\n",
    "from src.visualizers.Open3dVisualizer import Open3DVisualizer\n",
    "from src.utils.json_utils import load_cuboid_data\n",
    "from src.utils.plotting_utils import load_mesh_data, load_pointcloud_data\n",
    "from src.scripts.preprocessing_data.data_to_6views_utils import process_file\n",
    "import numpy as np\n",
    "from PIL import Image\n",
    "from src.cuboid_generator.CuboidProcessor import CuboidProcessor\n",
    "from src.shapenet_processing.PointCloudProcessor import PointCloudProcessor\n",
    "\n",
    "import plyfile"
   ]
  },
  {
   "cell_type": "code",
   "execution_count": 3,
   "metadata": {},
   "outputs": [],
   "source": [
    "def segment_points_by_color(points, colors, color):\n",
    "    mask = np.all(colors == color, axis=1)\n",
    "    segmented_points = points[mask]\n",
    "    return segmented_points - np.mean(segmented_points, axis=0)\n",
    "\n",
    "# Function to process the point cloud for multiple colors\n",
    "def process_point_clouds(points, colors, cuboid_colors):\n",
    "    return [segment_points_by_color(points, colors, color) for color in cuboid_colors if color in set(tuple(c) for c in colors)]"
   ]
  },
  {
   "cell_type": "markdown",
   "metadata": {},
   "source": [
    "# Visualization of data\n"
   ]
  },
  {
   "cell_type": "code",
   "execution_count": 4,
   "metadata": {},
   "outputs": [
    {
     "name": "stdout",
     "output_type": "stream",
     "text": [
      "\u001b[1;33m[Open3D WARNING] GLFW Error: Cocoa: Failed to find service port for display\u001b[0;m\n",
      "\u001b[1;33m[Open3D WARNING] GLFW Error: Cocoa: Failed to find service port for display\u001b[0;m\n",
      "\u001b[1;33m[Open3D WARNING] GLFW Error: Cocoa: Failed to find service port for display\u001b[0;m\n",
      "\u001b[1;33m[Open3D WARNING] GLFW Error: Cocoa: Failed to find service port for display\u001b[0;m\n"
     ]
    }
   ],
   "source": [
    "shapenet_id = \"1a6f615e8b1b5ae4dbbc9440457e303e\"\n",
    "cuboid_data = load_cuboid_data(\"/Users/cmazzoleni/Documents/GitHub/CuboidAbstractionViaSeg/data/processed/inputs_dataset/chair/cuboid_json/1a6f615e8b1b5ae4dbbc9440457e303e.json\")\n",
    "visualizer = Open3DVisualizer()\n",
    "visualizer.add_complete_cuboid(cuboid_data)\n",
    "visualizer.show()\n",
    "cuboid_processor = CuboidProcessor(cuboid_data)\n",
    "cuboid_colors = cuboid_processor.cuboid_colors"
   ]
  },
  {
   "cell_type": "code",
   "execution_count": null,
   "metadata": {},
   "outputs": [
    {
     "ename": "KeyError",
     "evalue": "'green'",
     "output_type": "error",
     "traceback": [
      "\u001b[0;31m---------------------------------------------------------------------------\u001b[0m",
      "\u001b[0;31mKeyError\u001b[0m                                  Traceback (most recent call last)",
      "Cell \u001b[0;32mIn[47], line 4\u001b[0m\n\u001b[1;32m      1\u001b[0m pointcloud_data_path \u001b[38;5;241m=\u001b[39m \u001b[38;5;124m\"\u001b[39m\u001b[38;5;124m/Users/cmazzoleni/Documents/GitHub/CuboidAbstractionViaSeg/data/processed/inputs_dataset/chair/segmentation_ply/1a6f615e8b1b5ae4dbbc9440457e303e_segment.ply\u001b[39m\u001b[38;5;124m\"\u001b[39m\n\u001b[1;32m      2\u001b[0m \u001b[38;5;66;03m# Step 2: Load the point cloud data and segment the points by the cuboid colors\u001b[39;00m\n\u001b[0;32m----> 4\u001b[0m pointcloud_processor \u001b[38;5;241m=\u001b[39m \u001b[43mPointCloudProcessor\u001b[49m\u001b[43m(\u001b[49m\u001b[43mpointcloud_data_path\u001b[49m\u001b[43m)\u001b[49m \n\u001b[1;32m      5\u001b[0m \u001b[38;5;66;03m# Segment points by the cuboid colors\u001b[39;00m\n\u001b[1;32m      6\u001b[0m segmented_point_clouds \u001b[38;5;241m=\u001b[39m pointcloud_processor\u001b[38;5;241m.\u001b[39mprocess_point_clouds(cuboid_colors)\n",
      "File \u001b[0;32m~/Documents/GitHub/CuboidAbstractionViaSeg/src/shapenet_processing/PointCloudProcessor.py:13\u001b[0m, in \u001b[0;36mPointCloudProcessor.__init__\u001b[0;34m(self, file_path)\u001b[0m\n\u001b[1;32m      6\u001b[0m \u001b[38;5;28;01mdef\u001b[39;00m \u001b[38;5;21m__init__\u001b[39m(\u001b[38;5;28mself\u001b[39m, file_path: \u001b[38;5;28mstr\u001b[39m):\n\u001b[1;32m      7\u001b[0m \u001b[38;5;250m    \u001b[39m\u001b[38;5;124;03m\"\"\"\u001b[39;00m\n\u001b[1;32m      8\u001b[0m \u001b[38;5;124;03m    Initializes the PointCloudProcessor with the file path to the point cloud data.\u001b[39;00m\n\u001b[1;32m      9\u001b[0m \n\u001b[1;32m     10\u001b[0m \u001b[38;5;124;03m    Args:\u001b[39;00m\n\u001b[1;32m     11\u001b[0m \u001b[38;5;124;03m        file_path (str): The file path to the point cloud data in PLY format.\u001b[39;00m\n\u001b[1;32m     12\u001b[0m \u001b[38;5;124;03m    \"\"\"\u001b[39;00m\n\u001b[0;32m---> 13\u001b[0m     \u001b[38;5;28mself\u001b[39m\u001b[38;5;241m.\u001b[39mpoints, \u001b[38;5;28mself\u001b[39m\u001b[38;5;241m.\u001b[39mcolors \u001b[38;5;241m=\u001b[39m \u001b[38;5;28;43mself\u001b[39;49m\u001b[38;5;241;43m.\u001b[39;49m\u001b[43mload_point_cloud\u001b[49m\u001b[43m(\u001b[49m\u001b[43mfile_path\u001b[49m\u001b[43m)\u001b[49m\n",
      "File \u001b[0;32m~/Documents/GitHub/CuboidAbstractionViaSeg/src/shapenet_processing/PointCloudProcessor.py:27\u001b[0m, in \u001b[0;36mPointCloudProcessor.load_point_cloud\u001b[0;34m(self, file_path)\u001b[0m\n\u001b[1;32m     25\u001b[0m plydata \u001b[38;5;241m=\u001b[39m plyfile\u001b[38;5;241m.\u001b[39mPlyData\u001b[38;5;241m.\u001b[39mread(file_path)\n\u001b[1;32m     26\u001b[0m points \u001b[38;5;241m=\u001b[39m \u001b[38;5;28mself\u001b[39m\u001b[38;5;241m.\u001b[39mextract_points(plydata)\n\u001b[0;32m---> 27\u001b[0m colors \u001b[38;5;241m=\u001b[39m \u001b[38;5;28;43mself\u001b[39;49m\u001b[38;5;241;43m.\u001b[39;49m\u001b[43mextract_colors\u001b[49m\u001b[43m(\u001b[49m\u001b[43mplydata\u001b[49m\u001b[43m)\u001b[49m\n\u001b[1;32m     28\u001b[0m \u001b[38;5;28;01mreturn\u001b[39;00m points, colors\n",
      "File \u001b[0;32m~/Documents/GitHub/CuboidAbstractionViaSeg/src/shapenet_processing/PointCloudProcessor.py:52\u001b[0m, in \u001b[0;36mextract_colors\u001b[0;34m(self, plydata)\u001b[0m\n\u001b[1;32m     43\u001b[0m \u001b[38;5;28;01mdef\u001b[39;00m \u001b[38;5;21mextract_colors\u001b[39m(\u001b[38;5;28mself\u001b[39m, plydata: plyfile\u001b[38;5;241m.\u001b[39mPlyData) \u001b[38;5;241m-\u001b[39m\u001b[38;5;241m>\u001b[39m np\u001b[38;5;241m.\u001b[39mndarray:\n\u001b[1;32m     44\u001b[0m \u001b[38;5;250m    \u001b[39m\u001b[38;5;124;03m\"\"\"\u001b[39;00m\n\u001b[1;32m     45\u001b[0m \u001b[38;5;124;03m    Extracts the colors from the PLY data.\u001b[39;00m\n\u001b[1;32m     46\u001b[0m \n\u001b[1;32m     47\u001b[0m \u001b[38;5;124;03m    Args:\u001b[39;00m\n\u001b[1;32m     48\u001b[0m \u001b[38;5;124;03m        plydata (plyfile.PlyData): The PLY data containing point cloud information.\u001b[39;00m\n\u001b[1;32m     49\u001b[0m \n\u001b[1;32m     50\u001b[0m \u001b[38;5;124;03m    Returns:\u001b[39;00m\n\u001b[1;32m     51\u001b[0m \u001b[38;5;124;03m        np.ndarray: A numpy array of point colors normalized between 0 and 1.\u001b[39;00m\n\u001b[0;32m---> 52\u001b[0m \u001b[38;5;124;03m    \"\"\"\u001b[39;00m\n\u001b[1;32m     53\u001b[0m     \u001b[38;5;28mprint\u001b[39m(plydata[\u001b[38;5;124m'\u001b[39m\u001b[38;5;124mvertex\u001b[39m\u001b[38;5;124m'\u001b[39m])\n\u001b[1;32m     54\u001b[0m     \u001b[38;5;28;01mreturn\u001b[39;00m np\u001b[38;5;241m.\u001b[39mvstack((plydata[\u001b[38;5;124m'\u001b[39m\u001b[38;5;124mvertex\u001b[39m\u001b[38;5;124m'\u001b[39m][\u001b[38;5;124m'\u001b[39m\u001b[38;5;124mred\u001b[39m\u001b[38;5;124m'\u001b[39m], plydata[\u001b[38;5;124m'\u001b[39m\u001b[38;5;124mvertex\u001b[39m\u001b[38;5;124m'\u001b[39m][\u001b[38;5;124m'\u001b[39m\u001b[38;5;124mgreen\u001b[39m\u001b[38;5;124m'\u001b[39m], plydata[\u001b[38;5;124m'\u001b[39m\u001b[38;5;124mvertex\u001b[39m\u001b[38;5;124m'\u001b[39m][\u001b[38;5;124m'\u001b[39m\u001b[38;5;124mblue\u001b[39m\u001b[38;5;124m'\u001b[39m]))\u001b[38;5;241m.\u001b[39mT \u001b[38;5;241m/\u001b[39m \u001b[38;5;241m255.0\u001b[39m\n",
      "File \u001b[0;32m~/Documents/GitHub/PrimitiveDifformation/primitivedifformation_venv/lib/python3.11/site-packages/plyfile.py:278\u001b[0m, in \u001b[0;36mPlyData.__getitem__\u001b[0;34m(self, name)\u001b[0m\n\u001b[1;32m    261\u001b[0m \u001b[38;5;28;01mdef\u001b[39;00m \u001b[38;5;21m__getitem__\u001b[39m(\u001b[38;5;28mself\u001b[39m, name):\n\u001b[1;32m    262\u001b[0m \u001b[38;5;250m    \u001b[39m\u001b[38;5;124;03m\"\"\"\u001b[39;00m\n\u001b[1;32m    263\u001b[0m \u001b[38;5;124;03m    Retrieve an element by name.\u001b[39;00m\n\u001b[1;32m    264\u001b[0m \n\u001b[0;32m   (...)\u001b[0m\n\u001b[1;32m    276\u001b[0m \u001b[38;5;124;03m        If the element can't be found.\u001b[39;00m\n\u001b[1;32m    277\u001b[0m \u001b[38;5;124;03m    \"\"\"\u001b[39;00m\n\u001b[0;32m--> 278\u001b[0m     \u001b[38;5;28;01mreturn\u001b[39;00m \u001b[38;5;28;43mself\u001b[39;49m\u001b[38;5;241;43m.\u001b[39;49m\u001b[43m_element_lookup\u001b[49m\u001b[43m[\u001b[49m\u001b[43mname\u001b[49m\u001b[43m]\u001b[49m\n",
      "\u001b[0;31mKeyError\u001b[0m: 'green'"
     ]
    }
   ],
   "source": [
    "pointcloud_data_path = \"/Users/cmazzoleni/Documents/GitHub/CuboidAbstractionViaSeg/data/processed/inputs_dataset/chair/segmentation_ply/1a6f615e8b1b5ae4dbbc9440457e303e_segment.ply\"\n",
    "# Step 2: Load the point cloud data and segment the points by the cuboid colors\n",
    "\n",
    "pointcloud_processor = PointCloudProcessor(pointcloud_data_path) \n",
    "# Segment points by the cuboid colors\n",
    "segmented_point_clouds = pointcloud_processor.process_point_clouds(cuboid_colors)\n",
    "\n",
    "# Step 3: Visualize the segmented point clouds\n",
    "for segmented_points in segmented_point_clouds:\n",
    "    visualizer.add_point_cloud(segmented_points)\n",
    "\n",
    "visualizer.show() \n"
   ]
  },
  {
   "cell_type": "code",
   "execution_count": 7,
   "metadata": {},
   "outputs": [],
   "source": [
    "pointcloud_data_path = \"/Users/cmazzoleni/Documents/GitHub/CuboidAbstractionViaSeg/data/processed/inputs_dataset/chair/segmentation_ply/1a6f615e8b1b5ae4dbbc9440457e303e_segment.ply\"\n",
    "# Step 2: Load the\n",
    "\n",
    "plydata = plyfile.PlyData.read(pointcloud_data_path)\n",
    "vertex = plydata['vertex']\n",
    "points = np.vstack((vertex['x'], vertex['y'], vertex['z'])).T\n",
    "colors = np.vstack((vertex['red'], vertex['green'], vertex['blue'])).T / 255.0\n",
    "\n",
    "\n",
    "segmented_point_clouds = process_point_clouds(points, colors, cuboid_colors)\n",
    "\n",
    "visualizer = Open3DVisualizer()\n",
    "for segmented_points in segmented_point_clouds:\n",
    "    visualizer.add_pointcloud(\"pointcloud\",segmented_points, cuboid_colors)\n",
    "\n",
    "visualizer.show()\n"
   ]
  },
  {
   "cell_type": "code",
   "execution_count": null,
   "metadata": {},
   "outputs": [],
   "source": [
    "pointcloud_data_path = \"/Users/cmazzoleni/Documents/GitHub/CuboidAbstractionViaSeg/data/processed/inputs_dataset/chair/segmentation_ply/1a6f615e8b1b5ae4dbbc9440457e303e_segment.ply\"\n",
    "# Step 2: Load the\n",
    "plydata = plyfile.PlyData.read(pointcloud_data_path)\n",
    "vertex = plydata['vertex']\n",
    "points = np.vstack((vertex['x'], vertex['y'], vertex['z'])).T\n",
    "colors = np.vstack((vertex['red'], vertex['green'], vertex['blue'])).T / 255.0\n",
    "visualizer = Open3DVisualizer()\n",
    "visualizer.add_pointcloud(\"pointcloud\",points, colors)\n",
    "visualizer.show()\n"
   ]
  }
 ],
 "metadata": {
  "kernelspec": {
   "display_name": "primitivedifformation_venv",
   "language": "python",
   "name": "primitivedifformation_venv"
  },
  "language_info": {
   "codemirror_mode": {
    "name": "ipython",
    "version": 3
   },
   "file_extension": ".py",
   "mimetype": "text/x-python",
   "name": "python",
   "nbconvert_exporter": "python",
   "pygments_lexer": "ipython3",
   "version": "3.11.9"
  }
 },
 "nbformat": 4,
 "nbformat_minor": 2
}
