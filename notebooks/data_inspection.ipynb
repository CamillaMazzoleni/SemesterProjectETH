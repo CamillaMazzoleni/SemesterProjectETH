{
 "cells": [
  {
   "cell_type": "code",
   "execution_count": 4,
   "metadata": {},
   "outputs": [
    {
     "name": "stdout",
     "output_type": "stream",
     "text": [
      "['/opt/anaconda3/envs/myenv/lib/python311.zip', '/opt/anaconda3/envs/myenv/lib/python3.11', '/opt/anaconda3/envs/myenv/lib/python3.11/lib-dynload', '', '/opt/anaconda3/envs/myenv/lib/python3.11/site-packages', '/Users/cmazzoleni/Documents/GitHub/Hierarchical-Localization/Hierarchical-Localization/Hierarchical-Localization', '/Users/cmazzoleni/Documents/GitHub/CuboidAbstractionViaSeg']\n"
     ]
    }
   ],
   "source": [
    "import os\n",
    "import sys\n",
    "# Define the path to the project root directory (one level above `src`)\n",
    "project_root_path = \"/Users/cmazzoleni/Documents/GitHub/CuboidAbstractionViaSeg\"\n",
    "\n",
    "# Add the src directory to sys.path\n",
    "sys.path.append(os.path.join(project_root_path))\n",
    "\n",
    "# Verify that src is in sys.path\n",
    "print(sys.path)\n",
    "import os\n",
    "import argparse\n",
    "from src.utils.dataset_utils import create_directory\n",
    "from src.visualizers.Open3dVisualizer import Open3DVisualizer\n",
    "from src.utils.json_utils import load_cuboid_data\n",
    "from src.utils.plotting_utils import load_mesh_data, load_pointcloud_data\n",
    "from src.scripts.preprocessing_data.data_to_6views_utils import process_file\n",
    "import numpy as np\n",
    "from PIL import Image\n",
    "from src.cuboid_generator.CuboidProcessor import CuboidProcessor\n",
    "import open3d as o3d"
   ]
  },
  {
   "cell_type": "code",
   "execution_count": 6,
   "metadata": {},
   "outputs": [
    {
     "name": "stdout",
     "output_type": "stream",
     "text": [
      "Depth image shape: (800, 800)\n",
      "Min depth value: 0\n",
      "Max depth value: 1113\n",
      "Depth image dtype: uint16\n"
     ]
    }
   ],
   "source": [
    "def inspect_depth_image(depth_filename):\n",
    "    # Load the depth image using Open3D\n",
    "    depth_image = o3d.io.read_image(depth_filename)\n",
    "\n",
    "    # Convert to a NumPy array for easy inspection\n",
    "    depth_array = np.asarray(depth_image)\n",
    "\n",
    "    # Inspect properties\n",
    "    print(f\"Depth image shape: {depth_array.shape}\")\n",
    "    print(f\"Min depth value: {depth_array.min()}\")\n",
    "    print(f\"Max depth value: {depth_array.max()}\")\n",
    "    print(f\"Depth image dtype: {depth_array.dtype}\")\n",
    "\n",
    "    return depth_array\n",
    "\n",
    "# Example usage\n",
    "depth_filename = \"try_decode_input.png\"\n",
    "depth_array = inspect_depth_image(depth_filename)"
   ]
  },
  {
   "cell_type": "code",
   "execution_count": 7,
   "metadata": {},
   "outputs": [
    {
     "name": "stdout",
     "output_type": "stream",
     "text": [
      "Depth image shape: (800, 800)\n",
      "Min depth value: 0\n",
      "Max depth value: 1096\n",
      "Depth image dtype: uint16\n"
     ]
    }
   ],
   "source": [
    "depth_filename = \"front_depth_mesh_image.png\"\n",
    "depth_array = inspect_depth_image(depth_filename)"
   ]
  },
  {
   "cell_type": "code",
   "execution_count": 9,
   "metadata": {},
   "outputs": [
    {
     "ename": "",
     "evalue": "",
     "output_type": "error",
     "traceback": [
      "\u001b[1;31mSi è verificato un arresto anomalo del Kernel durante l'esecuzione del codice nella cella attiva o in una cella precedente. \n",
      "\u001b[1;31mEsaminare il codice nelle celle per identificare una possibile causa dell'errore. \n",
      "\u001b[1;31mPer altre informazioni, fare clic<a href='https://aka.ms/vscodeJupyterKernelCrash'>qui</a>. \n",
      "\u001b[1;31mPer ulteriori dettagli, visualizzare Jupyter <a href='command:jupyter.viewOutput'>log</a>."
     ]
    }
   ],
   "source": [
    "import open3d as o3d\n",
    "import numpy as np\n",
    "\n",
    "def reconstruct_from_depth(depth_filename, width, height, fx, fy, cx, cy, output_pointcloud_filename):\n",
    "    # Load the saved raw depth image (not normalized)\n",
    "    depth_image = o3d.io.read_image(depth_filename)\n",
    "\n",
    "    # Create an intrinsic matrix for the camera\n",
    "    intrinsic = o3d.camera.PinholeCameraIntrinsic(width, height, fx, fy, cx, cy)\n",
    "\n",
    "    # Convert the depth image to a point cloud\n",
    "    pcd = o3d.geometry.PointCloud.create_from_depth_image(\n",
    "        depth_image, intrinsic, extrinsic=np.identity(4), depth_scale=1000.0, \n",
    "    )\n",
    "\n",
    "    # Save the reconstructed point cloud to a file\n",
    "    o3d.io.write_point_cloud(output_pointcloud_filename, pcd)\n",
    "    print(f\"Reconstructed point cloud saved to {output_pointcloud_filename}\")\n",
    "\n",
    "    # Visualize the point cloud\n",
    "    o3d.visualization.draw_geometries([pcd])\n",
    "\n",
    "depth_filename = \"try_decode_input.png\"\n",
    "output_pointcloud_filename = \"reconstructed_pointcloud.ply\"\n",
    "\n",
    "# Intrinsic parameters (adjust based on your setup)\n",
    "width = 800  # Image width\n",
    "height = 800  # Image height\n",
    "fx = 692.82  # Focal length in x direction\n",
    "fy = 692.82  # Focal length in y direction\n",
    "cx = width / 2.0  # Principal point in x direction\n",
    "cy = height / 2.0  # Principal point in y direction\n",
    "\n",
    "# Call the reconstruction function\n",
    "reconstruct_from_depth(depth_filename, width, height, fx, fy, cx, cy, output_pointcloud_filename)\n"
   ]
  }
 ],
 "metadata": {
  "kernelspec": {
   "display_name": "myenv",
   "language": "python",
   "name": "python3"
  },
  "language_info": {
   "codemirror_mode": {
    "name": "ipython",
    "version": 3
   },
   "file_extension": ".py",
   "mimetype": "text/x-python",
   "name": "python",
   "nbconvert_exporter": "python",
   "pygments_lexer": "ipython3",
   "version": "3.11.0"
  }
 },
 "nbformat": 4,
 "nbformat_minor": 2
}
