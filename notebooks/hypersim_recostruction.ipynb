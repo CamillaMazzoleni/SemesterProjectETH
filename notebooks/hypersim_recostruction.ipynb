{
 "cells": [
  {
   "cell_type": "code",
   "execution_count": null,
   "metadata": {},
   "outputs": [],
   "source": []
  },
  {
   "cell_type": "code",
   "execution_count": 2,
   "metadata": {},
   "outputs": [
    {
     "ename": "TypeError",
     "evalue": "create_from_depth_image(): incompatible function arguments. The following argument types are supported:\n    1. (depth: open3d::geometry::Image, intrinsic: open3d.cpu.pybind.camera.PinholeCameraIntrinsic, extrinsic: numpy.ndarray[numpy.float64[4, 4]] = array([[1., 0., 0., 0.],\n       [0., 1., 0., 0.],\n       [0., 0., 1., 0.],\n       [0., 0., 0., 1.]]), depth_scale: float = 1000.0, depth_trunc: float = 1000.0, stride: int = 1, project_valid_depth_only: bool = True) -> open3d.cpu.pybind.geometry.PointCloud\n\nInvoked with: Image of size 800x800, with 1 channels.\nUse numpy.asarray to access buffer data., PinholeCameraIntrinsic with width = 800 and height = 800.\nAccess intrinsics with intrinsic_matrix.; kwargs: extrinsic=array([[1., 0., 0., 0.],\n       [0., 1., 0., 0.],\n       [0., 0., 1., 0.],\n       [0., 0., 0., 1.]]), depth_scale=1000.0, depth_trunc=1000.0, convert_rgb_to_intensity=False",
     "output_type": "error",
     "traceback": [
      "\u001b[0;31m---------------------------------------------------------------------------\u001b[0m",
      "\u001b[0;31mTypeError\u001b[0m                                 Traceback (most recent call last)",
      "Cell \u001b[0;32mIn[2], line 43\u001b[0m\n\u001b[1;32m     40\u001b[0m cy \u001b[38;5;241m=\u001b[39m height \u001b[38;5;241m/\u001b[39m \u001b[38;5;241m2\u001b[39m  \u001b[38;5;66;03m# Principal point (center) y\u001b[39;00m\n\u001b[1;32m     42\u001b[0m \u001b[38;5;66;03m# Call the function to reconstruct the point cloud\u001b[39;00m\n\u001b[0;32m---> 43\u001b[0m \u001b[43mreconstruct_from_depth\u001b[49m\u001b[43m(\u001b[49m\u001b[43mdepth_filename\u001b[49m\u001b[43m,\u001b[49m\u001b[43m \u001b[49m\u001b[43mwidth\u001b[49m\u001b[43m,\u001b[49m\u001b[43m \u001b[49m\u001b[43mheight\u001b[49m\u001b[43m,\u001b[49m\u001b[43m \u001b[49m\u001b[43mfx\u001b[49m\u001b[43m,\u001b[49m\u001b[43m \u001b[49m\u001b[43mfy\u001b[49m\u001b[43m,\u001b[49m\u001b[43m \u001b[49m\u001b[43mcx\u001b[49m\u001b[43m,\u001b[49m\u001b[43m \u001b[49m\u001b[43mcy\u001b[49m\u001b[43m,\u001b[49m\u001b[43m \u001b[49m\u001b[43moutput_pointcloud_filename\u001b[49m\u001b[43m)\u001b[49m\n",
      "Cell \u001b[0;32mIn[2], line 13\u001b[0m, in \u001b[0;36mreconstruct_from_depth\u001b[0;34m(depth_filename, width, height, fx, fy, cx, cy, output_pointcloud_filename)\u001b[0m\n\u001b[1;32m      9\u001b[0m intrinsic \u001b[38;5;241m=\u001b[39m o3d\u001b[38;5;241m.\u001b[39mcamera\u001b[38;5;241m.\u001b[39mPinholeCameraIntrinsic(width, height, fx, fy, cx, cy)\n\u001b[1;32m     11\u001b[0m \u001b[38;5;66;03m# Convert the depth image to a point cloud\u001b[39;00m\n\u001b[1;32m     12\u001b[0m \u001b[38;5;66;03m# extrinsic is set to identity (assumes no additional transformation needed)\u001b[39;00m\n\u001b[0;32m---> 13\u001b[0m pcd \u001b[38;5;241m=\u001b[39m \u001b[43mo3d\u001b[49m\u001b[38;5;241;43m.\u001b[39;49m\u001b[43mgeometry\u001b[49m\u001b[38;5;241;43m.\u001b[39;49m\u001b[43mPointCloud\u001b[49m\u001b[38;5;241;43m.\u001b[39;49m\u001b[43mcreate_from_depth_image\u001b[49m\u001b[43m(\u001b[49m\n\u001b[1;32m     14\u001b[0m \u001b[43m    \u001b[49m\u001b[43mdepth_image\u001b[49m\u001b[43m,\u001b[49m\n\u001b[1;32m     15\u001b[0m \u001b[43m    \u001b[49m\u001b[43mintrinsic\u001b[49m\u001b[43m,\u001b[49m\n\u001b[1;32m     16\u001b[0m \u001b[43m    \u001b[49m\u001b[43mextrinsic\u001b[49m\u001b[38;5;241;43m=\u001b[39;49m\u001b[43mnp\u001b[49m\u001b[38;5;241;43m.\u001b[39;49m\u001b[43midentity\u001b[49m\u001b[43m(\u001b[49m\u001b[38;5;241;43m4\u001b[39;49m\u001b[43m)\u001b[49m\u001b[43m,\u001b[49m\n\u001b[1;32m     17\u001b[0m \u001b[43m    \u001b[49m\u001b[43mdepth_scale\u001b[49m\u001b[38;5;241;43m=\u001b[39;49m\u001b[38;5;241;43m1000.0\u001b[39;49m\u001b[43m,\u001b[49m\u001b[43m  \u001b[49m\u001b[38;5;66;43;03m# Adjust scale (if depth is in millimeters)\u001b[39;49;00m\n\u001b[1;32m     18\u001b[0m \u001b[43m    \u001b[49m\u001b[43mdepth_trunc\u001b[49m\u001b[38;5;241;43m=\u001b[39;49m\u001b[38;5;241;43m1000.0\u001b[39;49m\u001b[43m,\u001b[49m\u001b[43m  \u001b[49m\u001b[38;5;66;43;03m# Maximum depth distance to truncate (adjust as needed)\u001b[39;49;00m\n\u001b[1;32m     19\u001b[0m \u001b[43m    \u001b[49m\u001b[43mconvert_rgb_to_intensity\u001b[49m\u001b[38;5;241;43m=\u001b[39;49m\u001b[38;5;28;43;01mFalse\u001b[39;49;00m\u001b[43m  \u001b[49m\u001b[38;5;66;43;03m# If you want to treat depth only, set False\u001b[39;49;00m\n\u001b[1;32m     20\u001b[0m \u001b[43m\u001b[49m\u001b[43m)\u001b[49m\n\u001b[1;32m     22\u001b[0m \u001b[38;5;66;03m# Save the reconstructed point cloud to a PLY file\u001b[39;00m\n\u001b[1;32m     23\u001b[0m o3d\u001b[38;5;241m.\u001b[39mio\u001b[38;5;241m.\u001b[39mwrite_point_cloud(output_pointcloud_filename, pcd)\n",
      "\u001b[0;31mTypeError\u001b[0m: create_from_depth_image(): incompatible function arguments. The following argument types are supported:\n    1. (depth: open3d::geometry::Image, intrinsic: open3d.cpu.pybind.camera.PinholeCameraIntrinsic, extrinsic: numpy.ndarray[numpy.float64[4, 4]] = array([[1., 0., 0., 0.],\n       [0., 1., 0., 0.],\n       [0., 0., 1., 0.],\n       [0., 0., 0., 1.]]), depth_scale: float = 1000.0, depth_trunc: float = 1000.0, stride: int = 1, project_valid_depth_only: bool = True) -> open3d.cpu.pybind.geometry.PointCloud\n\nInvoked with: Image of size 800x800, with 1 channels.\nUse numpy.asarray to access buffer data., PinholeCameraIntrinsic with width = 800 and height = 800.\nAccess intrinsics with intrinsic_matrix.; kwargs: extrinsic=array([[1., 0., 0., 0.],\n       [0., 1., 0., 0.],\n       [0., 0., 1., 0.],\n       [0., 0., 0., 1.]]), depth_scale=1000.0, depth_trunc=1000.0, convert_rgb_to_intensity=False"
     ]
    }
   ],
   "source": [
    "import open3d as o3d\n",
    "import numpy as np\n",
    "\n",
    "def reconstruct_from_depth(depth_filename, width, height, fx, fy, cx, cy, output_pointcloud_filename):\n",
    "    # Load the saved depth image (assumed to be in 16-bit or 32-bit format)\n",
    "    depth_image = o3d.io.read_image(depth_filename)\n",
    "\n",
    "    # Create an intrinsic matrix for the camera\n",
    "    intrinsic = o3d.camera.PinholeCameraIntrinsic(width, height, fx, fy, cx, cy)\n",
    "\n",
    "    # Convert the depth image to a point cloud\n",
    "    # extrinsic is set to identity (assumes no additional transformation needed)\n",
    "    pcd = o3d.geometry.PointCloud.create_from_depth_image(\n",
    "        depth_image,\n",
    "        intrinsic,\n",
    "        extrinsic=np.identity(4),\n",
    "        depth_scale=1000.0,  # Adjust scale (if depth is in millimeters)\n",
    "        depth_trunc=1000.0,  # Maximum depth distance to truncate (adjust as needed)\n",
    "        convert_rgb_to_intensity=False  # If you want to treat depth only, set False\n",
    "    )\n",
    "\n",
    "    # Save the reconstructed point cloud to a PLY file\n",
    "    o3d.io.write_point_cloud(output_pointcloud_filename, pcd)\n",
    "    print(f\"Reconstructed point cloud saved to {output_pointcloud_filename}\")\n",
    "\n",
    "    # Visualize the point cloud\n",
    "    o3d.visualization.draw_geometries([pcd])\n",
    "\n",
    "# Example usage:\n",
    "#depth_filename = \"processed_output/denormalized_depth.png\"  # Path to the depth image\n",
    "depth_filename = \"front_depth_mesh_image.png\"  # Path to the depth image\n",
    "output_pointcloud_filename = \"reconstructed_pointcloud.ply\"  # Output PLY file\n",
    "\n",
    "# Camera intrinsic parameters (these should match your setup)\n",
    "width = 800  # Image width\n",
    "height = 800  # Image height\n",
    "fx = 692.8  # Focal length along x-axis\n",
    "fy = 692.8  # Focal length along y-axis\n",
    "cx = width / 2  # Principal point (center) x\n",
    "cy = height / 2  # Principal point (center) y\n",
    "\n",
    "# Call the function to reconstruct the point cloud\n",
    "reconstruct_from_depth(depth_filename, width, height, fx, fy, cx, cy, output_pointcloud_filename)\n"
   ]
  }
 ],
 "metadata": {
  "kernelspec": {
   "display_name": "myenv",
   "language": "python",
   "name": "python3"
  },
  "language_info": {
   "codemirror_mode": {
    "name": "ipython",
    "version": 3
   },
   "file_extension": ".py",
   "mimetype": "text/x-python",
   "name": "python",
   "nbconvert_exporter": "python",
   "pygments_lexer": "ipython3",
   "version": "3.11.0"
  }
 },
 "nbformat": 4,
 "nbformat_minor": 2
}
