{
 "cells": [
  {
   "cell_type": "code",
   "execution_count": null,
   "metadata": {},
   "outputs": [],
   "source": []
  },
  {
   "cell_type": "code",
   "execution_count": null,
   "metadata": {},
   "outputs": [],
   "source": [
    "import torch"
   ]
  },
  {
   "cell_type": "code",
   "execution_count": null,
   "metadata": {},
   "outputs": [],
   "source": [
    "def encode_rgb(self, rgb_in: torch.Tensor) -> torch.Tensor:\n",
    "    \"\"\"\n",
    "    Encode RGB image into latent.\n",
    "\n",
    "    Args:\n",
    "        rgb_in (`torch.Tensor`):\n",
    "            Input RGB image to be encoded.\n",
    "\n",
    "    Returns:\n",
    "        `torch.Tensor`: Image latent.\n",
    "    \"\"\"\n",
    "    # encode\n",
    "    h = self.vae.encoder(rgb_in)\n",
    "    moments = self.vae.quant_conv(h)\n",
    "    mean, logvar = torch.chunk(moments, 2, dim=1)\n",
    "    # scale latent\n",
    "    rgb_latent = mean * self.rgb_latent_scale_factor\n",
    "    return rgb_latent"
   ]
  },
  {
   "cell_type": "code",
   "execution_count": null,
   "metadata": {},
   "outputs": [],
   "source": [
    "def encode_depth(self, depth_in):\n",
    "    # stack depth into 3-channel\n",
    "    stacked = self.stack_depth_images(depth_in)\n",
    "    # encode using VAE encoder\n",
    "    depth_latent = self.model.encode_rgb(stacked)\n",
    "    return depth_latent"
   ]
  }
 ],
 "metadata": {
  "language_info": {
   "name": "python"
  }
 },
 "nbformat": 4,
 "nbformat_minor": 2
}
