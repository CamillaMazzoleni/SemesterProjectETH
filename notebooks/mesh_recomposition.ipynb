{
 "cells": [
  {
   "cell_type": "code",
   "execution_count": 3,
   "metadata": {},
   "outputs": [],
   "source": [
    "import open3d as o3d\n",
    "import numpy as np  \n",
    "\n"
   ]
  },
  {
   "cell_type": "code",
   "execution_count": 2,
   "metadata": {},
   "outputs": [
    {
     "name": "stderr",
     "output_type": "stream",
     "text": [
      "[ WARN:0@0.015] global loadsave.cpp:248 findDecoder imread_('/Users/cmazzoleni/Documents/GitHub/SemesterProjectETH/src/diffusion_model/output/depth_map_inference/depth_bw/35e77eed59e1113c22e4620665c23c97_complete_pred.png'): can't open/read file: check file path/integrity\n"
     ]
    },
    {
     "ename": "TypeError",
     "evalue": "'NoneType' object is not subscriptable",
     "output_type": "error",
     "traceback": [
      "\u001b[0;31m---------------------------------------------------------------------------\u001b[0m",
      "\u001b[0;31mTypeError\u001b[0m                                 Traceback (most recent call last)",
      "Cell \u001b[0;32mIn[2], line 19\u001b[0m\n\u001b[1;32m     17\u001b[0m \u001b[38;5;66;03m# Crop and save each view\u001b[39;00m\n\u001b[1;32m     18\u001b[0m \u001b[38;5;28;01mfor\u001b[39;00m i, (x1, y1, x2, y2) \u001b[38;5;129;01min\u001b[39;00m \u001b[38;5;28menumerate\u001b[39m(crop_coords):\n\u001b[0;32m---> 19\u001b[0m     cropped_image \u001b[38;5;241m=\u001b[39m \u001b[43mimage\u001b[49m\u001b[43m[\u001b[49m\u001b[43my1\u001b[49m\u001b[43m:\u001b[49m\u001b[43my2\u001b[49m\u001b[43m,\u001b[49m\u001b[43m \u001b[49m\u001b[43mx1\u001b[49m\u001b[43m:\u001b[49m\u001b[43mx2\u001b[49m\u001b[43m]\u001b[49m  \u001b[38;5;66;03m# Crop the image using numpy slicing\u001b[39;00m\n\u001b[1;32m     20\u001b[0m     cropped_path \u001b[38;5;241m=\u001b[39m \u001b[38;5;124mf\u001b[39m\u001b[38;5;124m\"\u001b[39m\u001b[38;5;124mcropped_view_\u001b[39m\u001b[38;5;132;01m{\u001b[39;00mi\u001b[38;5;241m+\u001b[39m\u001b[38;5;241m1\u001b[39m\u001b[38;5;132;01m}\u001b[39;00m\u001b[38;5;124m.png\u001b[39m\u001b[38;5;124m\"\u001b[39m\n\u001b[1;32m     21\u001b[0m     cv2\u001b[38;5;241m.\u001b[39mimwrite(cropped_path, cropped_image)\n",
      "\u001b[0;31mTypeError\u001b[0m: 'NoneType' object is not subscriptable"
     ]
    }
   ],
   "source": [
    "import cv2\n",
    "\n",
    "# Load the image\n",
    "image_path = \"/Users/cmazzoleni/Documents/GitHub/SemesterProjectETH/src/diffusion_model/output/depth_map_inference/depth_bw/35e77eed59e1113c22e4620665c23c97_complete_pred.png\"\n",
    "image = cv2.imread(image_path)\n",
    "\n",
    "# Define the cropping coordinates for each view (2 rows x 3 columns)\n",
    "crop_coords = [\n",
    "    (0, 0, 266, 400),    # View 1 (top-left)\n",
    "    (266, 0, 532, 400),  # View 2 (top-middle)\n",
    "    (532, 0, 800, 400),  # View 3 (top-right)\n",
    "    (0, 400, 266, 800),  # View 4 (bottom-left)\n",
    "    (266, 400, 532, 800),# View 5 (bottom-middle)\n",
    "    (532, 400, 800, 800) # View 6 (bottom-right)\n",
    "]\n",
    "\n",
    "# Crop and save each view\n",
    "for i, (x1, y1, x2, y2) in enumerate(crop_coords):\n",
    "    cropped_image = image[y1:y2, x1:x2]  # Crop the image using numpy slicing\n",
    "    cropped_path = f\"cropped_view_{i+1}.png\"\n",
    "    cv2.imwrite(cropped_path, cropped_image)\n",
    "    print(f\"Saved cropped image {i+1} to {cropped_path}\")\n"
   ]
  },
  {
   "cell_type": "code",
   "execution_count": 4,
   "metadata": {},
   "outputs": [],
   "source": [
    "views = {\n",
    "            \"top\": [0, 1, 0],\n",
    "            \"bottom\": [0, -1, 0],\n",
    "            \"left\": [1, 0, 0],\n",
    "            \"right\": [-1, 0, 0],\n",
    "            \"front\": [0, 0, -1],\n",
    "            \"back\": [0, 0, 1]\n",
    "        }"
   ]
  },
  {
   "cell_type": "code",
   "execution_count": 5,
   "metadata": {},
   "outputs": [],
   "source": [
    "def set_camera_position(visualizer, center, distance, view_name=\"front\"):\n",
    "    ctr = visualizer.get_view_control()\n",
    "\n",
    "    # Camera position will be distance units away from the center along the z-axis\n",
    "    camera_position = center + np.array([0, 0, distance])\n",
    "\n",
    "    # Set the camera parameters\n",
    "    ctr.set_lookat(camera_position.tolist())  # Set the lookat point to the center of the scene\n",
    "    ctr.set_front(views[view_name])  # Set the view direction)  # Camera looking straight down the z-axis\n",
    "    \n",
    "    # Adjust zoom if necessary\n",
    "    if view_name in [\"top\", \"bottom\"]:\n",
    "        ctr.set_up([0, 0, 1])\n",
    "    else:\n",
    "        ctr.set_up([0, 1, 0])\n",
    "\n",
    "\n",
    "    # Apply the camera extrinsics\n",
    "    camera_params = ctr.convert_to_pinhole_camera_parameters()\n",
    "    extrinsic = { \n",
    "        \"left\": np.array([\n",
    "    [0, 0, 1, 0],    # Rotate to look along the positive x-axis\n",
    "    [0, 1, 0, 0],    # No rotation around y\n",
    "    [-1, 0, 0, distance],  # Camera positioned at x = distance\n",
    "    [0, 0, 0, 1]\n",
    "        ]),\n",
    "        \"right\": np.array([\n",
    "    [0, 0, -1, 0],   # Rotate to look along the negative x-axis\n",
    "    [0, 1, 0, 0],    # No rotation around y\n",
    "    [1, 0, 0, distance],  # Camera positioned at x = distance\n",
    "    [0, 0, 0, 1]\n",
    "        ]),\n",
    "        \"top\": np.array([\n",
    "    [1, 0, 0, 0],    # No rotation around x\n",
    "    [0, 0, 1, 0],    # Rotate to look along the positive z-axis\n",
    "    [0, -1, 0, distance],  # Camera positioned at y = distance\n",
    "    [0, 0, 0, 1]\n",
    "        ]),\n",
    "        \"bottom\": np.array([\n",
    "    [1, 0, 0, 0],    # No rotation around x\n",
    "    [0, 0, -1, 0],   # Rotate to look along the negative z-axis\n",
    "    [0, 1, 0, distance],  # Camera positioned at y = distance\n",
    "    [0, 0, 0, 1]\n",
    "        ]),\n",
    "        \"front\": np.array([\n",
    "    [1, 0, 0, 0],    # No rotation around x\n",
    "    [0, 1, 0, 0],    # No rotation around y\n",
    "    [0, 0, 1, distance],  # Camera positioned at z = distance\n",
    "    [0, 0, 0, 1]\n",
    "        ]),\n",
    "        \"back\": np.array([\n",
    "    [1, 0, 0, 0],    # No rotation around x\n",
    "    [0, 1, 0, 0],    # No rotation around y\n",
    "    [0, 0, -1, distance],  # Camera positioned at z = distance\n",
    "    [0, 0, 0, 1]\n",
    "        ])\n",
    "    }\n",
    "    \n",
    "    camera_params.extrinsic = extrinsic[view_name]\n",
    "    ctr.convert_from_pinhole_camera_parameters(camera_params, allow_arbitrary=True)\n",
    "     # Set the lookat point to the center of the scene\n",
    "    ctr.set_front(views[view_name]) # Camera looking straight down the z-axis\n",
    "    if view_name in [\"top\", \"bottom\"]:\n",
    "        ctr.set_up([0, 0, 1])\n",
    "    else:\n",
    "        ctr.set_up([0, 1, 0])\n",
    "\n",
    "    visualizer.poll_events()\n",
    "    visualizer.update_renderer()\n",
    "    camera_params = ctr.convert_to_pinhole_camera_parameters()\n",
    "    return camera_params"
   ]
  },
  {
   "cell_type": "code",
   "execution_count": 6,
   "metadata": {},
   "outputs": [
    {
     "name": "stdout",
     "output_type": "stream",
     "text": [
      "\u001b[1;33m[Open3D WARNING] GLFW Error: Cocoa: Failed to find service port for display\u001b[0;m\n",
      "\u001b[1;33m[Open3D WARNING] GLFW Error: Cocoa: Failed to find service port for display\u001b[0;m\n"
     ]
    }
   ],
   "source": [
    "window_width = 800\n",
    "window_height = 800\n",
    "vis = o3d.visualization.Visualizer()\n",
    "vis.create_window(width=window_width, height=window_height)\n",
    "\n",
    "mesh_path = \"/Users/cmazzoleni/Documents/GitHub/SemesterProjectETH/data/raw/03001627/185bcb9bcec174c9492d9da2668ec34c/models/model_normalized.obj\"\n",
    "mesh = o3d.io.read_triangle_mesh(mesh_path)\n",
    "mesh.compute_vertex_normals()\n",
    "#center the mesh\n",
    "mesh.translate(-mesh.get_center())\n",
    "vis.add_geometry(mesh)\n",
    "\n",
    "fixed_distance = 1.0\n",
    "camera_params = set_camera_position(vis, center=np.array([0, 0, 0]), distance=fixed_distance, view_name=\"front\")\n",
    "\n",
    "# Run the visualizer so you can manually adjust the viewpoint\n",
    "\n",
    "ctr = vis.get_view_control()\n",
    "vis.capture_depth_image(\"depth_image.png\")\n",
    "\n"
   ]
  },
  {
   "cell_type": "code",
   "execution_count": 7,
   "metadata": {},
   "outputs": [
    {
     "name": "stdout",
     "output_type": "stream",
     "text": [
      "\u001b[1;33m[Open3D WARNING] Read PNG failed: unable to parse header.\u001b[0;m\n"
     ]
    },
    {
     "ename": "RuntimeError",
     "evalue": "\u001b[1;31m[Open3D Error] (static std::shared_ptr<PointCloud> open3d::geometry::PointCloud::CreateFromDepthImage(const Image &, const camera::PinholeCameraIntrinsic &, const Eigen::Matrix4d &, double, double, int, bool)) /Users/renes/development/open3d_work/Open3D/cpp/open3d/geometry/PointCloudFactory.cpp:151: Unsupported image format.\n\u001b[0;m",
     "output_type": "error",
     "traceback": [
      "\u001b[0;31m---------------------------------------------------------------------------\u001b[0m",
      "\u001b[0;31mRuntimeError\u001b[0m                              Traceback (most recent call last)",
      "Cell \u001b[0;32mIn[7], line 4\u001b[0m\n\u001b[1;32m      1\u001b[0m \u001b[38;5;66;03m#depth_image = o3d.io.read_image(\"depth_image.png\")\u001b[39;00m\n\u001b[1;32m      3\u001b[0m depth_image \u001b[38;5;241m=\u001b[39m o3d\u001b[38;5;241m.\u001b[39mio\u001b[38;5;241m.\u001b[39mread_image(\u001b[38;5;124m\"\u001b[39m\u001b[38;5;124m/Users/cmazzoleni/Documents/GitHub/SemesterProjectETH/notebooks/cropped_view_2.png\u001b[39m\u001b[38;5;124m\"\u001b[39m)\n\u001b[0;32m----> 4\u001b[0m pcd_from_depth \u001b[38;5;241m=\u001b[39m \u001b[43mo3d\u001b[49m\u001b[38;5;241;43m.\u001b[39;49m\u001b[43mgeometry\u001b[49m\u001b[38;5;241;43m.\u001b[39;49m\u001b[43mPointCloud\u001b[49m\u001b[38;5;241;43m.\u001b[39;49m\u001b[43mcreate_from_depth_image\u001b[49m\u001b[43m(\u001b[49m\n\u001b[1;32m      5\u001b[0m \u001b[43m            \u001b[49m\u001b[43mdepth_image\u001b[49m\u001b[43m,\u001b[49m\n\u001b[1;32m      6\u001b[0m \u001b[43m            \u001b[49m\u001b[43mcamera_params\u001b[49m\u001b[38;5;241;43m.\u001b[39;49m\u001b[43mintrinsic\u001b[49m\u001b[43m,\u001b[49m\n\u001b[1;32m      7\u001b[0m \u001b[43m            \u001b[49m\u001b[43mcamera_params\u001b[49m\u001b[38;5;241;43m.\u001b[39;49m\u001b[43mextrinsic\u001b[49m\u001b[43m,\u001b[49m\n\u001b[1;32m      8\u001b[0m \u001b[43m        \u001b[49m\u001b[43m)\u001b[49m\n\u001b[1;32m     10\u001b[0m o3d\u001b[38;5;241m.\u001b[39mvisualization\u001b[38;5;241m.\u001b[39mdraw_geometries([pcd_from_depth, mesh])    \n",
      "\u001b[0;31mRuntimeError\u001b[0m: \u001b[1;31m[Open3D Error] (static std::shared_ptr<PointCloud> open3d::geometry::PointCloud::CreateFromDepthImage(const Image &, const camera::PinholeCameraIntrinsic &, const Eigen::Matrix4d &, double, double, int, bool)) /Users/renes/development/open3d_work/Open3D/cpp/open3d/geometry/PointCloudFactory.cpp:151: Unsupported image format.\n\u001b[0;m"
     ]
    },
    {
     "ename": "",
     "evalue": "",
     "output_type": "error",
     "traceback": [
      "\u001b[1;31mSi è verificato un arresto anomalo del Kernel durante l'esecuzione del codice nella cella attiva o in una cella precedente. \n",
      "\u001b[1;31mEsaminare il codice nelle celle per identificare una possibile causa dell'errore. \n",
      "\u001b[1;31mPer altre informazioni, fare clic<a href='https://aka.ms/vscodeJupyterKernelCrash'>qui</a>. \n",
      "\u001b[1;31mPer ulteriori dettagli, visualizzare Jupyter <a href='command:jupyter.viewOutput'>log</a>."
     ]
    }
   ],
   "source": [
    "\n",
    "#depth_image = o3d.io.read_image(\"depth_image.png\")\n",
    "\n",
    "depth_image = o3d.io.read_image(\"/Users/cmazzoleni/Documents/GitHub/SemesterProjectETH/notebooks/cropped_view_2.png\")\n",
    "pcd_from_depth = o3d.geometry.PointCloud.create_from_depth_image(\n",
    "            depth_image,\n",
    "            camera_params.intrinsic,\n",
    "            camera_params.extrinsic,\n",
    "        )\n",
    "\n",
    "o3d.visualization.draw_geometries([pcd_from_depth, mesh])    "
   ]
  }
 ],
 "metadata": {
  "kernelspec": {
   "display_name": "Python 3",
   "language": "python",
   "name": "python3"
  },
  "language_info": {
   "codemirror_mode": {
    "name": "ipython",
    "version": 3
   },
   "file_extension": ".py",
   "mimetype": "text/x-python",
   "name": "python",
   "nbconvert_exporter": "python",
   "pygments_lexer": "ipython3",
   "version": "3.11.0"
  }
 },
 "nbformat": 4,
 "nbformat_minor": 2
}
