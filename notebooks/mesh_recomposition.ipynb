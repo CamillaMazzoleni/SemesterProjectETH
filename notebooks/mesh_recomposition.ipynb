{
 "cells": [
  {
   "cell_type": "code",
   "execution_count": 3,
   "metadata": {},
   "outputs": [],
   "source": [
    "import open3d as o3d\n",
    "import numpy as np  \n",
    "\n"
   ]
  },
  {
   "cell_type": "code",
   "execution_count": 4,
   "metadata": {},
   "outputs": [],
   "source": [
    "views = {\n",
    "            \"top\": [0, 1, 0],\n",
    "            \"bottom\": [0, -1, 0],\n",
    "            \"left\": [1, 0, 0],\n",
    "            \"right\": [-1, 0, 0],\n",
    "            \"front\": [0, 0, -1],\n",
    "            \"back\": [0, 0, 1]\n",
    "        }"
   ]
  },
  {
   "cell_type": "code",
   "execution_count": 6,
   "metadata": {},
   "outputs": [],
   "source": [
    "def set_camera_position(visualizer, center, distance, view_name=\"front\"):\n",
    "    ctr = visualizer.get_view_control()\n",
    "\n",
    "    # Camera position will be distance units away from the center along the z-axis\n",
    "    camera_position = center + np.array([0, 0, distance])\n",
    "\n",
    "    # Set the camera parameters\n",
    "    ctr.set_lookat(camera_position.tolist())  # Set the lookat point to the center of the scene\n",
    "    ctr.set_front(views[view_name])  # Set the view direction)  # Camera looking straight down the z-axis\n",
    "    \n",
    "    # Adjust zoom if necessary\n",
    "    if view_name in [\"top\", \"bottom\"]:\n",
    "        ctr.set_up([0, 0, 1])\n",
    "    else:\n",
    "        ctr.set_up([0, 1, 0])\n",
    "\n",
    "\n",
    "    # Apply the camera extrinsics\n",
    "    camera_params = ctr.convert_to_pinhole_camera_parameters()\n",
    "    extrinsic = { \n",
    "        \"left\": np.array([\n",
    "    [0, 0, 1, 0],    # Rotate to look along the positive x-axis\n",
    "    [0, 1, 0, 0],    # No rotation around y\n",
    "    [-1, 0, 0, distance],  # Camera positioned at x = distance\n",
    "    [0, 0, 0, 1]\n",
    "        ]),\n",
    "        \"right\": np.array([\n",
    "    [0, 0, -1, 0],   # Rotate to look along the negative x-axis\n",
    "    [0, 1, 0, 0],    # No rotation around y\n",
    "    [1, 0, 0, distance],  # Camera positioned at x = distance\n",
    "    [0, 0, 0, 1]\n",
    "        ]),\n",
    "        \"top\": np.array([\n",
    "    [1, 0, 0, 0],    # No rotation around x\n",
    "    [0, 0, 1, 0],    # Rotate to look along the positive z-axis\n",
    "    [0, -1, 0, distance],  # Camera positioned at y = distance\n",
    "    [0, 0, 0, 1]\n",
    "        ]),\n",
    "        \"bottom\": np.array([\n",
    "    [1, 0, 0, 0],    # No rotation around x\n",
    "    [0, 0, -1, 0],   # Rotate to look along the negative z-axis\n",
    "    [0, 1, 0, distance],  # Camera positioned at y = distance\n",
    "    [0, 0, 0, 1]\n",
    "        ]),\n",
    "        \"front\": np.array([\n",
    "    [1, 0, 0, 0],    # No rotation around x\n",
    "    [0, 1, 0, 0],    # No rotation around y\n",
    "    [0, 0, 1, distance],  # Camera positioned at z = distance\n",
    "    [0, 0, 0, 1]\n",
    "        ]),\n",
    "        \"back\": np.array([\n",
    "    [1, 0, 0, 0],    # No rotation around x\n",
    "    [0, 1, 0, 0],    # No rotation around y\n",
    "    [0, 0, -1, distance],  # Camera positioned at z = distance\n",
    "    [0, 0, 0, 1]\n",
    "        ])\n",
    "    }\n",
    "    \n",
    "    camera_params.extrinsic = extrinsic[view_name]\n",
    "    ctr.convert_from_pinhole_camera_parameters(camera_params, allow_arbitrary=True)\n",
    "     # Set the lookat point to the center of the scene\n",
    "    ctr.set_front(views[view_name]) # Camera looking straight down the z-axis\n",
    "    if view_name in [\"top\", \"bottom\"]:\n",
    "        ctr.set_up([0, 0, 1])\n",
    "    else:\n",
    "        ctr.set_up([0, 1, 0])\n",
    "\n",
    "    visualizer.poll_events()\n",
    "    visualizer.update_renderer()\n",
    "    camera_params = ctr.convert_to_pinhole_camera_parameters()\n",
    "    return camera_params"
   ]
  },
  {
   "cell_type": "code",
   "execution_count": 7,
   "metadata": {},
   "outputs": [
    {
     "name": "stdout",
     "output_type": "stream",
     "text": [
      "\u001b[1;33m[Open3D WARNING] GLFW Error: Cocoa: Failed to find service port for display\u001b[0;m\n",
      "[Open3D INFO] Skipping non-triangle primitive geometry of type: 2\n"
     ]
    }
   ],
   "source": [
    "window_width = 800\n",
    "window_height = 600\n",
    "vis = o3d.visualization.Visualizer()\n",
    "vis.create_window(width=window_width, height=window_height)\n",
    "\n",
    "mesh_path = \"/Users/cmazzoleni/Documents/GitHub/CuboidAbstractionViaSeg/data/raw/03001627/1a8bbf2994788e2743e99e0cae970928/models/model_normalized.obj\"\n",
    "mesh = o3d.io.read_triangle_mesh(mesh_path)\n",
    "mesh.compute_vertex_normals()\n",
    "#center the mesh\n",
    "mesh.translate(-mesh.get_center())\n",
    "vis.add_geometry(mesh)\n",
    "\n",
    "fixed_distance = 1.0\n",
    "camera_params = set_camera_position(vis, center=np.array([0, 0, 0]), distance=fixed_distance, view_name=\"front\")\n",
    "\n",
    "# Run the visualizer so you can manually adjust the viewpoint\n",
    "\n",
    "ctr = vis.get_view_control()\n",
    "vis.capture_depth_image(\"depth_image.png\")\n",
    "\n"
   ]
  },
  {
   "cell_type": "code",
   "execution_count": 9,
   "metadata": {},
   "outputs": [
    {
     "ename": "KeyboardInterrupt",
     "evalue": "",
     "output_type": "error",
     "traceback": [
      "\u001b[0;31m---------------------------------------------------------------------------\u001b[0m",
      "\u001b[0;31mKeyboardInterrupt\u001b[0m                         Traceback (most recent call last)",
      "Cell \u001b[0;32mIn[9], line 9\u001b[0m\n\u001b[1;32m      1\u001b[0m depth_image \u001b[38;5;241m=\u001b[39m o3d\u001b[38;5;241m.\u001b[39mio\u001b[38;5;241m.\u001b[39mread_image(\u001b[38;5;124m\"\u001b[39m\u001b[38;5;124mdepth_image.png\u001b[39m\u001b[38;5;124m\"\u001b[39m)\n\u001b[1;32m      3\u001b[0m pcd_from_depth \u001b[38;5;241m=\u001b[39m o3d\u001b[38;5;241m.\u001b[39mgeometry\u001b[38;5;241m.\u001b[39mPointCloud\u001b[38;5;241m.\u001b[39mcreate_from_depth_image(\n\u001b[1;32m      4\u001b[0m             depth_image,\n\u001b[1;32m      5\u001b[0m             camera_params\u001b[38;5;241m.\u001b[39mintrinsic,\n\u001b[1;32m      6\u001b[0m             camera_params\u001b[38;5;241m.\u001b[39mextrinsic,\n\u001b[1;32m      7\u001b[0m         )\n\u001b[0;32m----> 9\u001b[0m \u001b[43mo3d\u001b[49m\u001b[38;5;241;43m.\u001b[39;49m\u001b[43mvisualization\u001b[49m\u001b[38;5;241;43m.\u001b[39;49m\u001b[43mdraw_geometries\u001b[49m\u001b[43m(\u001b[49m\u001b[43m[\u001b[49m\u001b[43mpcd_from_depth\u001b[49m\u001b[43m,\u001b[49m\u001b[43m \u001b[49m\u001b[43mmesh\u001b[49m\u001b[43m]\u001b[49m\u001b[43m)\u001b[49m    \n",
      "\u001b[0;31mKeyboardInterrupt\u001b[0m: "
     ]
    },
    {
     "ename": "",
     "evalue": "",
     "output_type": "error",
     "traceback": [
      "\u001b[1;31mSi è verificato un arresto anomalo del Kernel durante l'esecuzione del codice nella cella attiva o in una cella precedente. \n",
      "\u001b[1;31mEsaminare il codice nelle celle per identificare una possibile causa dell'errore. \n",
      "\u001b[1;31mPer altre informazioni, fare clic<a href='https://aka.ms/vscodeJupyterKernelCrash'>qui</a>. \n",
      "\u001b[1;31mPer ulteriori dettagli, visualizzare Jupyter <a href='command:jupyter.viewOutput'>log</a>."
     ]
    }
   ],
   "source": [
    "\n",
    "depth_image = o3d.io.read_image(\"depth_image.png\")\n",
    "\n",
    "pcd_from_depth = o3d.geometry.PointCloud.create_from_depth_image(\n",
    "            depth_image,\n",
    "            camera_params.intrinsic,\n",
    "            camera_params.extrinsic,\n",
    "        )\n",
    "\n",
    "o3d.visualization.draw_geometries([pcd_from_depth, mesh])    "
   ]
  }
 ],
 "metadata": {
  "kernelspec": {
   "display_name": "primitivedifformation_venv",
   "language": "python",
   "name": "primitivedifformation_venv"
  },
  "language_info": {
   "codemirror_mode": {
    "name": "ipython",
    "version": 3
   },
   "file_extension": ".py",
   "mimetype": "text/x-python",
   "name": "python",
   "nbconvert_exporter": "python",
   "pygments_lexer": "ipython3",
   "version": "3.11.9"
  }
 },
 "nbformat": 4,
 "nbformat_minor": 2
}
