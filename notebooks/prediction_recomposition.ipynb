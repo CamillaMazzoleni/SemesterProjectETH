{
 "cells": [
  {
   "cell_type": "code",
   "execution_count": 1,
   "metadata": {},
   "outputs": [],
   "source": [
    "#path setup\n",
    "import os\n",
    "import sys\n",
    "\n",
    "project_root_path = \"/Users/cmazzoleni/Documents/GitHub/CuboidAbstractionViaSeg\"\n",
    "# Add the src directory to sys.path\n",
    "sys.path.append(os.path.join(project_root_path))\n",
    "import numpy as np\n",
    "import open3d as o3d\n",
    "import argparse\n",
    "from src.utils.dataset_utils import create_directory\n",
    "from src.visualizers.Open3dVisualizer import Open3DVisualizer\n",
    "from src.utils.json_utils import load_cuboid_data\n",
    "from src.utils.plotting_utils import load_mesh_data, load_pointcloud_data\n",
    "import pprint\n",
    "import cv2\n",
    "from PIL import Image"
   ]
  },
  {
   "cell_type": "markdown",
   "metadata": {},
   "source": [
    "# Help functions\n"
   ]
  },
  {
   "cell_type": "code",
   "execution_count": null,
   "metadata": {},
   "outputs": [],
   "source": []
  },
  {
   "cell_type": "markdown",
   "metadata": {},
   "source": [
    "# Constant values\n"
   ]
  },
  {
   "cell_type": "code",
   "execution_count": 2,
   "metadata": {},
   "outputs": [],
   "source": [
    "extrinsic_front = np.array([\n",
    "        [1, 0, 0, 0],    \n",
    "        [0, 1, 0, 0],    \n",
    "        [0, 0, 1, 1],  \n",
    "        [0, 0, 0, 1]])\n",
    "\n",
    "\n",
    "flip_transform = np.array([[1, 0, 0, 0], \n",
    "                           [0, -1, 0, 0], \n",
    "                           [0, 0, 1, 0],  \n",
    "                           [0, 0, 0, 1]])"
   ]
  },
  {
   "cell_type": "markdown",
   "metadata": {},
   "source": [
    "# Prediction PCD\n"
   ]
  },
  {
   "cell_type": "code",
   "execution_count": 3,
   "metadata": {},
   "outputs": [
    {
     "name": "stdout",
     "output_type": "stream",
     "text": [
      "44\n",
      "255\n"
     ]
    }
   ],
   "source": [
    "prediction_depth_image_path = \"try_decode.png\"\n",
    "prediction_depth_image = cv2.imread(prediction_depth_image_path, cv2.IMREAD_UNCHANGED)  # Read the image\n",
    "prediction_depth_image = prediction_depth_image.astype(np.uint8)\n",
    "\n",
    "min_depth = np.min(prediction_depth_image)\n",
    "max_depth = np.max(prediction_depth_image)\n",
    "\n",
    "print (min_depth)\n",
    "print (max_depth)\n",
    "\n",
    "#prediction_depth_image = prediction_depth_image / 65535.0\n",
    "prediction_depth_image = np.where((prediction_depth_image == 0) | (prediction_depth_image== 1), np.nan, prediction_depth_image)\n"
   ]
  },
  {
   "cell_type": "code",
   "execution_count": 4,
   "metadata": {},
   "outputs": [],
   "source": [
    "prediction_depth_image_path = \"try_decode.png\"\n",
    "prediction_depth_image = Image.open(prediction_depth_image_path)\n",
    "prediction_depth_image = np.array(prediction_depth_image)\n",
    "prediction_depth_image = prediction_depth_image.astype(np.uint16)\n",
    "#prediction_depth_image = prediction_depth_image / 65535.0"
   ]
  },
  {
   "cell_type": "markdown",
   "metadata": {},
   "source": [
    "# GT PCD"
   ]
  },
  {
   "cell_type": "code",
   "execution_count": 16,
   "metadata": {},
   "outputs": [
    {
     "name": "stdout",
     "output_type": "stream",
     "text": [
      "0.0\n",
      "255.0\n"
     ]
    }
   ],
   "source": [
    "\n",
    "gt_depth_image_path = \"gt_chair.png\"\n",
    "gt_depth_image = cv2.imread(gt_depth_image_path, cv2.IMREAD_UNCHANGED)  # Read the image\n",
    "gt_depth_image = gt_depth_image.astype(np.float32)\n",
    "\n",
    "\"\"\"\n",
    "gt_depth_image_path = \"depth_image.png\"\n",
    "\n",
    "gt_depth_image = o3d.io.read_image(gt_depth_image_path)\n",
    "gt_depth_image = np.asarray(gt_depth_image)\n",
    "min_depth = gt_depth_image.min()\n",
    "max_depth = gt_depth_image.max()\n",
    "print(min_depth)\n",
    "print(max_depth)\n",
    "#create a figure with the same dimesnions as the image\n",
    "gt_depth_image = Image.fromarray((gt_depth_image * 255).astype(np.float32))\n",
    "\n",
    "\"\"\"\n",
    "min_depth = np.min(gt_depth_image)\n",
    "max_depth = np.max(gt_depth_image)\n",
    "print(min_depth)\n",
    "print(max_depth)\n",
    "\n",
    "gt_depth_image = (gt_depth_image - min_depth) / (max_depth - min_depth)\n",
    "#gt_depth_image = np.where((gt_depth_image == 0) | (gt_depth_image== 1), np.nan, gt_depth_image)\n",
    "#min_depth = np.min(gt_depth_image)\n",
    "#max_depth = np.max(gt_depth_image)\n",
    "#print(min_depth)\n",
    "#print(max_depth)\n"
   ]
  },
  {
   "cell_type": "code",
   "execution_count": 8,
   "metadata": {},
   "outputs": [],
   "source": [
    "gt_depth_image_path = \"gt_chair.png\"\n",
    "gt_depth_image = Image.open(gt_depth_image_path)\n",
    "gt_depth_image = np.array(gt_depth_image)\n",
    "gt_depth_image = gt_depth_image.astype(np.uint16)"
   ]
  },
  {
   "cell_type": "markdown",
   "metadata": {},
   "source": [
    "# Mesh "
   ]
  },
  {
   "cell_type": "code",
   "execution_count": 6,
   "metadata": {},
   "outputs": [
    {
     "data": {
      "text/plain": [
       "TriangleMesh with 3356 points and 2720 triangles."
      ]
     },
     "execution_count": 6,
     "metadata": {},
     "output_type": "execute_result"
    }
   ],
   "source": [
    "mesh_path = \"/Users/cmazzoleni/Documents/GitHub/SemesterProjectETH/data/raw/03001627/185bcb9bcec174c9492d9da2668ec34c/models/model_normalized.obj\"\n",
    "mesh = o3d.io.read_triangle_mesh(mesh_path)\n",
    "mesh.compute_vertex_normals()\n",
    "\n",
    "\n",
    "mesh.translate(-mesh.get_center())\n",
    "\n",
    "\n",
    "bounding_box = mesh.get_axis_aligned_bounding_box()\n",
    "\n",
    "\n",
    "max_extent = np.max(bounding_box.get_extent())\n",
    "\n",
    "\n",
    "scale_factor = 1.0 / max_extent\n",
    "mesh.scale(scale_factor, center=mesh.get_center())\n",
    "\n"
   ]
  },
  {
   "cell_type": "markdown",
   "metadata": {},
   "source": [
    "# Visualization"
   ]
  },
  {
   "cell_type": "code",
   "execution_count": 9,
   "metadata": {},
   "outputs": [
    {
     "name": "stdout",
     "output_type": "stream",
     "text": [
      "\u001b[1;33m[Open3D WARNING] invalid color in PaintUniformColor, clipping to [0, 1]\u001b[0;m\n",
      "\u001b[1;33m[Open3D WARNING] GLFW Error: Cocoa: Failed to find service port for display\u001b[0;m\n",
      "\u001b[1;33m[Open3D WARNING] GLFW Error: Cocoa: Failed to find service port for display\u001b[0;m\n"
     ]
    },
    {
     "ename": "",
     "evalue": "",
     "output_type": "error",
     "traceback": [
      "\u001b[1;31mSi è verificato un arresto anomalo del Kernel durante l'esecuzione del codice nella cella attiva o in una cella precedente. \n",
      "\u001b[1;31mEsaminare il codice nelle celle per identificare una possibile causa dell'errore. \n",
      "\u001b[1;31mPer altre informazioni, fare clic<a href='https://aka.ms/vscodeJupyterKernelCrash'>qui</a>. \n",
      "\u001b[1;31mPer ulteriori dettagli, visualizzare Jupyter <a href='command:jupyter.viewOutput'>log</a>."
     ]
    }
   ],
   "source": [
    "visualizer = Open3DVisualizer()\n",
    "visualizer.add_geometry(mesh)\n",
    "\n",
    "#assert gt_depth_image.shape[0]==prediction_depth_image.shape[0]\n",
    "#assert gt_depth_image.shape[1]==prediction_depth_image.shape[1]\n",
    "\n",
    "intrinsic = o3d.camera.PinholeCameraIntrinsic()\n",
    "intrinsic.set_intrinsics(width=prediction_depth_image.shape[1], \n",
    "                         height=prediction_depth_image.shape[0], \n",
    "                         fx=692.8203230275511,  # Focal length in x\n",
    "                         fy=692.8203230275511,  # Focal length in y\n",
    "                         cx=prediction_depth_image.shape[1] / 2.0,  # Principal point in x\n",
    "                         cy=prediction_depth_image.shape[0] / 2.0)  # Principal point in y\n",
    "\n",
    "\n",
    "prediction_depth_image_o3d = o3d.geometry.Image(prediction_depth_image)\n",
    "gt_depth_image_o3d = o3d.geometry.Image(gt_depth_image)\n",
    "  \n",
    "# Create a point cloud from the depth map using both intrinsic and extrinsic parameters\n",
    "pcd_prediction = o3d.geometry.PointCloud.create_from_depth_image(\n",
    "    prediction_depth_image_o3d, \n",
    "    intrinsic,\n",
    "    extrinsic= extrinsic_front\n",
    ")\n",
    "\n",
    "\n",
    "\n",
    "pcd_gt = o3d.geometry.PointCloud.create_from_depth_image(\n",
    "    gt_depth_image_o3d, \n",
    "    intrinsic,\n",
    "    extrinsic= extrinsic_front\n",
    ")\n",
    "pcd_gt.paint_uniform_color([255,0,0])\n",
    "\n",
    "\n",
    "# Transform the point cloud\n",
    "pcd_prediction.transform(flip_transform)\n",
    "pcd_gt.transform(flip_transform)\n",
    "\n",
    "o3d.visualization.draw_geometries([ pcd_prediction, mesh, pcd_gt])"
   ]
  }
 ],
 "metadata": {
  "kernelspec": {
   "display_name": "primitivedifformation_venv",
   "language": "python",
   "name": "python3"
  },
  "language_info": {
   "codemirror_mode": {
    "name": "ipython",
    "version": 3
   },
   "file_extension": ".py",
   "mimetype": "text/x-python",
   "name": "python",
   "nbconvert_exporter": "python",
   "pygments_lexer": "ipython3",
   "version": "3.11.9"
  }
 },
 "nbformat": 4,
 "nbformat_minor": 2
}
