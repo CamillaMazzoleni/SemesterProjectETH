{
 "cells": [
  {
   "cell_type": "code",
   "execution_count": 7,
   "metadata": {},
   "outputs": [
    {
     "name": "stdout",
     "output_type": "stream",
     "text": [
      "Original Image Size (Height, Width): (800, 800)\n",
      "Filtered Image Size (Height, Width): (800, 800)\n"
     ]
    },
    {
     "data": {
      "image/png": "[encoded data removed]",
      "text/plain": [
       "<Figure size 800x800 with 1 Axes>"
      ]
     },
     "metadata": {},
     "output_type": "display_data"
    }
   ],
   "source": [
    "import open3d as o3d\n",
    "import numpy as np\n",
    "import matplotlib.pyplot as plt\n",
    "from PIL import Image\n",
    "\n",
    "# Load the depth image\n",
    "depth_image_path = \"/Users/cmazzoleni/Documents/GitHub/CuboidAbstractionViaSeg/data/processed/chair_cuboid_6views_depth/e5a65fb8c660ef96dbbc9440457e303e_depth_bottom.png\"\n",
    "depth_image = o3d.io.read_image(depth_image_path)\n",
    "\n",
    "# Convert the depth image to a NumPy array\n",
    "depth_array = np.asarray(depth_image)\n",
    "\n",
    "# Print the original image size\n",
    "original_image_size = depth_array.shape\n",
    "print(\"Original Image Size (Height, Width):\", original_image_size)\n",
    "\n",
    "# Optionally, you can normalize the depth values for visualization\n",
    "depth_normalized = (depth_array - depth_array.min()) / (depth_array.max() - depth_array.min())\n",
    "\n",
    "# Define the depth range for the mask (e.g., between 0.2 and 0.5 in normalized depth)\n",
    "min_depth = 0.1\n",
    "max_depth = 0.99\n",
    "\n",
    "# Create a depth mask where depth values are within the specified range\n",
    "depth_mask = (depth_normalized >= min_depth) & (depth_normalized <= max_depth)\n",
    "\n",
    "# Apply the depth mask to the normalized depth image (retain only values within the range)\n",
    "masked_depth = np.where(depth_mask, depth_normalized, 0)\n",
    "\n",
    "# Print the image size after filtering\n",
    "filtered_image_size = masked_depth.shape\n",
    "print(\"Filtered Image Size (Height, Width):\", filtered_image_size)\n",
    "\n",
    "# Convert the masked depth array to an image for visualization\n",
    "masked_depth_image = Image.fromarray((masked_depth * 255).astype(np.uint8))\n",
    "\n",
    "# Show the masked depth image without grid, title, axis, or labels\n",
    "plt.figure(figsize=(masked_depth_image.size[0] / 100, masked_depth_image.size[1] / 100), dpi=100)\n",
    "plt.imshow(masked_depth_image, cmap='gray')\n",
    "plt.axis('off')  # Disable axis\n",
    "plt.show()\n",
    "\n",
    "# Save the masked depth image\n",
    "masked_depth_image.save(\"masked_image.png\")\n",
    "\n"
   ]
  }
 ],
 "metadata": {
  "kernelspec": {
   "display_name": "primitivedifformation_venv",
   "language": "python",
   "name": "python3"
  },
  "language_info": {
   "codemirror_mode": {
    "name": "ipython",
    "version": 3
   },
   "file_extension": ".py",
   "mimetype": "text/x-python",
   "name": "python",
   "nbconvert_exporter": "python",
   "pygments_lexer": "ipython3",
   "version": "3.11.9"
  }
 },
 "nbformat": 4,
 "nbformat_minor": 2
}
