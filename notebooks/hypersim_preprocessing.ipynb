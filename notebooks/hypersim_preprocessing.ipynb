{
 "cells": [
  {
   "cell_type": "code",
   "execution_count": 2,
   "metadata": {},
   "outputs": [
    {
     "name": "stdout",
     "output_type": "stream",
     "text": [
      "['/opt/anaconda3/envs/myenv/lib/python311.zip', '/opt/anaconda3/envs/myenv/lib/python3.11', '/opt/anaconda3/envs/myenv/lib/python3.11/lib-dynload', '', '/opt/anaconda3/envs/myenv/lib/python3.11/site-packages', '/Users/cmazzoleni/Documents/GitHub/Hierarchical-Localization/Hierarchical-Localization/Hierarchical-Localization', '/Users/cmazzoleni/Documents/GitHub/SemesterProjectETH']\n"
     ]
    }
   ],
   "source": [
    "import os\n",
    "import sys\n",
    "# Define the path to the project root directory (one level above `src`)\n",
    "project_root_path = \"/Users/cmazzoleni/Documents/GitHub/SemesterProjectETH\"\n",
    "\n",
    "# Add the src directory to sys.path\n",
    "sys.path.append(os.path.join(project_root_path))\n",
    "\n",
    "# Verify that src is in sys.path\n",
    "print(sys.path)\n",
    "import os\n",
    "import argparse\n",
    "from src.utils.dataset_utils import create_directory\n",
    "from src.visualizers.Open3dVisualizer import Open3DVisualizer\n",
    "from src.utils.json_utils import load_cuboid_data\n",
    "from src.utils.plotting_utils import load_mesh_data, load_pointcloud_data\n",
    "from src.scripts.preprocessing_data.data_to_6views_utils import process_file\n",
    "import numpy as np\n",
    "from PIL import Image\n",
    "import open3d as o3d"
   ]
  },
  {
   "cell_type": "code",
   "execution_count": 2,
   "metadata": {},
   "outputs": [
    {
     "name": "stdout",
     "output_type": "stream",
     "text": [
      "\u001b[1;33m[Open3D WARNING] GLFW Error: Cocoa: Failed to find service port for display\u001b[0;m\n",
      "Front view screenshot saved as front_rgb_image.png\n",
      "Front view screenshot saved as front_depth_image.png\n",
      "min_depth:  0\n",
      "max_depth:  1042\n"
     ]
    }
   ],
   "source": [
    "# Initialize the visualizer\n",
    "visualizer = Open3DVisualizer()\n",
    "\n",
    "cuboid_path = \"/Users/cmazzoleni/Documents/GitHub/SemesterProjectETH/data/processed/chair_cuboid_json/185bcb9bcec174c9492d9da2668ec34c.json\"\n",
    "cuboid_data = load_cuboid_data(cuboid_path)\n",
    "visualizer.add_complete_cuboid(cuboid_data)\n",
    "front_view_direction = [0, 0, -1]  # Front view direction (camera looking towards -z)\n",
    "\n",
    "# Save the front view RGB image\n",
    "front_rgb_filename = \"front_rgb_image.png\"\n",
    "visualizer.capture_front_picture(front_rgb_filename)\n",
    "\n",
    "# Save the front view depth image\n",
    "front_depth_filename = \"front_depth_image.png\"\n",
    "visualizer.capture_front_depth(front_depth_filename, distance=1.0)\n",
    "\n",
    "# The front_depth_filename will store the normalized depth image\n",
    "#find min and max values\n",
    "depth_image = np.array(Image.open(front_depth_filename))\n",
    "min_depth = np.min(depth_image)\n",
    "max_depth = np.max(depth_image)\n",
    "print(\"min_depth: \", min_depth)\n",
    "print(\"max_depth: \", max_depth)"
   ]
  },
  {
   "cell_type": "code",
   "execution_count": 3,
   "metadata": {},
   "outputs": [
    {
     "name": "stdout",
     "output_type": "stream",
     "text": [
      "\u001b[1;33m[Open3D WARNING] GLFW Error: Cocoa: Failed to find service port for display\u001b[0;m\n",
      "Front view screenshot saved as front_rgb_mesh_image.png\n",
      "Front view screenshot saved as front_depth_mesh_image.png\n",
      "min_depth:  0\n",
      "max_depth:  1096\n"
     ]
    },
    {
     "ename": "",
     "evalue": "",
     "output_type": "error",
     "traceback": [
      "\u001b[1;31mSi è verificato un arresto anomalo del Kernel durante l'esecuzione del codice nella cella attiva o in una cella precedente. \n",
      "\u001b[1;31mEsaminare il codice nelle celle per identificare una possibile causa dell'errore. \n",
      "\u001b[1;31mPer altre informazioni, fare clic<a href='https://aka.ms/vscodeJupyterKernelCrash'>qui</a>. \n",
      "\u001b[1;31mPer ulteriori dettagli, visualizzare Jupyter <a href='command:jupyter.viewOutput'>log</a>."
     ]
    }
   ],
   "source": [
    "visualizer = Open3DVisualizer()\n",
    "\n",
    "mesh_path = \"/Users/cmazzoleni/Documents/GitHub/SemesterProjectETH/data/raw/03001627/185bcb9bcec174c9492d9da2668ec34c/models/model_normalized.obj\"\n",
    "mesh = o3d.io.read_triangle_mesh(mesh_path)\n",
    "visualizer.vis.add_geometry(mesh)\n",
    "\n",
    "front_view_direction = [0, 0, -1]  # Front view direction (camera looking towards -z)\n",
    "\n",
    "# Save the front view RGB image\n",
    "front_rgb_mesh_filename = \"front_rgb_mesh_image.png\"\n",
    "visualizer.capture_front_picture(front_rgb_mesh_filename)\n",
    "\n",
    "# Save the front view depth image\n",
    "front_depth_mesh_filename = \"front_depth_mesh_image.png\"\n",
    "visualizer.capture_front_depth(front_depth_mesh_filename, distance=1.0)\n",
    "\n",
    "# The front_depth_filename will store the normalized depth image\n",
    "#find min and max values\n",
    "depth_image = np.array(Image.open(front_depth_mesh_filename))\n",
    "min_depth = np.min(depth_image)\n",
    "max_depth = np.max(depth_image)\n",
    "print(\"min_depth: \", min_depth)\n",
    "print(\"max_depth: \", max_depth)\n"
   ]
  }
 ],
 "metadata": {
  "kernelspec": {
   "display_name": "myenv",
   "language": "python",
   "name": "python3"
  },
  "language_info": {
   "codemirror_mode": {
    "name": "ipython",
    "version": 3
   },
   "file_extension": ".py",
   "mimetype": "text/x-python",
   "name": "python",
   "nbconvert_exporter": "python",
   "pygments_lexer": "ipython3",
   "version": "3.11.0"
  }
 },
 "nbformat": 4,
 "nbformat_minor": 2
}
