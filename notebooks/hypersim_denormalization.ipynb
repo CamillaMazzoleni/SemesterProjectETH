{
 "cells": [
  {
   "cell_type": "code",
   "execution_count": 4,
   "metadata": {},
   "outputs": [
    {
     "name": "stdout",
     "output_type": "stream",
     "text": [
      "Loaded min_depth: 0.0, max_depth: 1042.0\n",
      "Denormalized depth saved to denormalized_output/denormalized_depth.png\n"
     ]
    },
    {
     "ename": "",
     "evalue": "",
     "output_type": "error",
     "traceback": [
      "\u001b[1;31mSi è verificato un arresto anomalo del Kernel durante l'esecuzione del codice nella cella attiva o in una cella precedente. \n",
      "\u001b[1;31mEsaminare il codice nelle celle per identificare una possibile causa dell'errore. \n",
      "\u001b[1;31mPer altre informazioni, fare clic<a href='https://aka.ms/vscodeJupyterKernelCrash'>qui</a>. \n",
      "\u001b[1;31mPer ulteriori dettagli, visualizzare Jupyter <a href='command:jupyter.viewOutput'>log</a>."
     ]
    }
   ],
   "source": [
    "import numpy as np\n",
    "import cv2\n",
    "import os\n",
    "import json\n",
    "from PIL import Image\n",
    "\n",
    "# Function to denormalize the depth image\n",
    "def denormalize_depth(normalized_depth_path, stats_path, output_dir):\n",
    "    # Load the normalized depth image (values in range [0, 255], but normalized in [0, 1])\n",
    "    normalized_depth_image = Image.open(normalized_depth_path)\n",
    "    normalized_depth_array = np.asarray(normalized_depth_image).astype(np.uint16) / 255.0  # Convert back to [0, 1]\n",
    "\n",
    "    # Load the min and max depth values from JSON\n",
    "    with open(stats_path, \"r\") as json_file:\n",
    "        depth_stats = json.load(json_file)\n",
    "    min_depth = depth_stats['min_depth']\n",
    "    max_depth = depth_stats['max_depth']\n",
    "    \n",
    "    print(f\"Loaded min_depth: {min_depth}, max_depth: {max_depth}\")\n",
    "\n",
    "    # Denormalize the depth values back to their original scale\n",
    "    denormalized_depth = (normalized_depth_array * (max_depth - min_depth)) + min_depth\n",
    "\n",
    "    # Save the denormalized depth image for visualization (scaled back to the original depth values)\n",
    "    denormalized_depth_filename = os.path.join(output_dir, \"denormalized_depth.png\")\n",
    "    denormalized_depth_mm = (denormalized_depth * 1000).astype(np.uint16)  # Convert to millimeters\n",
    "    cv2.imwrite(denormalized_depth_filename, denormalized_depth_mm)\n",
    "\n",
    "    print(f\"Denormalized depth saved to {denormalized_depth_filename}\")\n",
    "    \n",
    "    return denormalized_depth_filename, denormalized_depth\n",
    "\n",
    "# Paths to the normalized depth image and depth statistics file\n",
    "normalized_depth_filename = \"processed_output/normalized_depth.png\"  # Path to the normalized depth image\n",
    "depth_stats_filename = \"processed_output/depth_stats.json\"  # Path to the saved depth stats (min/max)\n",
    "\n",
    "# Directory to save the denormalized output\n",
    "output_directory = \"denormalized_output\"\n",
    "os.makedirs(output_directory, exist_ok=True)\n",
    "\n",
    "# Call the function to denormalize the depth image\n",
    "denormalized_depth_filename, denormalized_depth_array = denormalize_depth(normalized_depth_filename, depth_stats_filename, output_directory)\n",
    "\n"
   ]
  }
 ],
 "metadata": {
  "kernelspec": {
   "display_name": "myenv",
   "language": "python",
   "name": "python3"
  },
  "language_info": {
   "codemirror_mode": {
    "name": "ipython",
    "version": 3
   },
   "file_extension": ".py",
   "mimetype": "text/x-python",
   "name": "python",
   "nbconvert_exporter": "python",
   "pygments_lexer": "ipython3",
   "version": "3.11.0"
  }
 },
 "nbformat": 4,
 "nbformat_minor": 2
}
