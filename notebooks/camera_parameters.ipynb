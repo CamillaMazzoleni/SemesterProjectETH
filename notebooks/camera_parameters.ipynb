{
 "cells": [
  {
   "cell_type": "markdown",
   "metadata": {},
   "source": [
    "## Setup\n",
    "\n",
    "setup for python path\n",
    "import necessary libraries"
   ]
  },
  {
   "cell_type": "code",
   "execution_count": 2,
   "metadata": {},
   "outputs": [],
   "source": [
    "#path setup\n",
    "import os\n",
    "import sys\n",
    "# Define the path to the project root directory (one level above `src`)\n",
    "project_root_path = \"/Users/cmazzoleni/Documents/GitHub/CuboidAbstractionViaSeg\"\n",
    "# Add the src directory to sys.path\n",
    "sys.path.append(os.path.join(project_root_path))"
   ]
  },
  {
   "cell_type": "code",
   "execution_count": 3,
   "metadata": {},
   "outputs": [],
   "source": [
    "# imports\n",
    "import numpy as np\n",
    "import open3d as o3d\n",
    "import argparse\n",
    "from src.utils.dataset_utils import create_directory\n",
    "from src.visualizers.Open3dVisualizer import Open3DVisualizer\n",
    "from src.utils.json_utils import load_cuboid_data\n",
    "from src.utils.plotting_utils import load_mesh_data, load_pointcloud_data\n",
    "import pprint"
   ]
  },
  {
   "cell_type": "markdown",
   "metadata": {},
   "source": [
    "# Data \n",
    "\n",
    "path to files to import"
   ]
  },
  {
   "cell_type": "code",
   "execution_count": 4,
   "metadata": {},
   "outputs": [],
   "source": [
    "cuboid_path = \"/Users/cmazzoleni/Documents/GitHub/CuboidAbstractionViaSeg/data/processed/chair_cuboid_json/1c173d970e21e9a8be95ff480950e9ef.json\"\n",
    "mesh_path = \"/Users/cmazzoleni/Documents/GitHub/CuboidAbstractionViaSeg/data/raw/03001627/1c173d970e21e9a8be95ff480950e9ef/models/model_normalized.obj\""
   ]
  },
  {
   "cell_type": "markdown",
   "metadata": {},
   "source": [
    "# Set Camera position"
   ]
  },
  {
   "cell_type": "code",
   "execution_count": 5,
   "metadata": {},
   "outputs": [],
   "source": [
    "views = {\n",
    "            \"top\": [0, 1, 0],\n",
    "            \"bottom\": [0, -1, 0],\n",
    "            \"left\": [1, 0, 0],\n",
    "            \"right\": [-1, 0, 0],\n",
    "            \"front\": [0, 0, -1],\n",
    "            \"back\": [0, 0, 1]\n",
    "        }\n",
    "\n",
    "colors = {\n",
    "    \"top\": [1, 0, 0],      # Red\n",
    "    \"bottom\": [0, 1, 0],   # Green\n",
    "    \"left\": [0, 0, 1],     # Blue\n",
    "    \"right\": [1, 1, 0],    # Yellow\n",
    "    \"front\": [1, 0, 1],    # Magenta\n",
    "    \"back\": [0, 1, 1]      # Cyan\n",
    "}\n",
    "\n",
    "extrinsic_params = { \n",
    "        \"left\": np.array([\n",
    "    [0, 0, 1, 0],    # Rotate to look along the positive x-axis\n",
    "    [0, 1, 0, 0],    # No rotation around y\n",
    "    [-1, 0, 0, 1],  # Camera positioned at x = distance\n",
    "    [0, 0, 0, 1]\n",
    "        ]),\n",
    "        \"right\": np.array([\n",
    "    [0, 0, -1, 0],   # Rotate to look along the negative x-axis\n",
    "    [0, 1, 0, 0],    # No rotation around y\n",
    "    [1, 0, 0, 1],  # Camera positioned at x = distance\n",
    "    [0, 0, 0, 1]\n",
    "        ]),\n",
    "        \"top\": np.array([\n",
    "    [1, 0, 0, 0],    # No rotation around x\n",
    "    [0, 0, 1, 0],    # Rotate to look along the positive z-axis\n",
    "    [0, -1, 0, 1],  # Camera positioned at y = distance\n",
    "    [0, 0, 0, 1]\n",
    "        ]),\n",
    "        \"bottom\": np.array([\n",
    "    [1, 0, 0, 0],    # No rotation around x\n",
    "    [0, 0, -1, 0],   # Rotate to look along the negative z-axis\n",
    "    [0, 1, 0, 1],  # Camera positioned at y = distance\n",
    "    [0, 0, 0, 1]\n",
    "        ]),\n",
    "        \"front\": np.array([\n",
    "    [1, 0, 0, 0],    # No rotation around x\n",
    "    [0, 1, 0, 0],    # No rotation around y\n",
    "    [0, 0, 1, 1],  # Camera positioned at z = distance\n",
    "    [0, 0, 0, 1]\n",
    "        ]),\n",
    "        \"back\": np.array([\n",
    "    [1, 0, 0, 0],    # No rotation around x\n",
    "    [0, 1, 0, 0],    # No rotation around y\n",
    "    [0, 0, -1, 1],  # Camera positioned at z = distance\n",
    "    [0, 0, 0, 1]\n",
    "        ])\n",
    "    }\n"
   ]
  },
  {
   "cell_type": "code",
   "execution_count": 6,
   "metadata": {},
   "outputs": [],
   "source": [
    "def set_camera_position(visualizer, center, distance, view_name=\"front\"):\n",
    "    ctr = visualizer.vis.get_view_control()\n",
    "\n",
    "    # Camera position will be distance units away from the center along the z-axis\n",
    "    camera_position = center + np.array([0, 0, distance])\n",
    "\n",
    "    # Set the camera parameters\n",
    "    ctr.set_lookat(camera_position.tolist())  # Set the lookat point to the center of the scene\n",
    "    ctr.set_front(views[view_name])  # Set the view direction)  # Camera looking straight down the z-axis\n",
    "    \n",
    "    # Adjust zoom if necessary\n",
    "    if view_name in [\"top\", \"bottom\"]:\n",
    "        ctr.set_up([0, 0, 1])\n",
    "    else:\n",
    "        ctr.set_up([0, 1, 0])\n",
    "\n",
    "\n",
    "    # Apply the camera extrinsics\n",
    "    camera_params = ctr.convert_to_pinhole_camera_parameters()\n",
    "    extrinsic = { \n",
    "        \"left\": np.array([\n",
    "    [0, 0, 1, 0],    # Rotate to look along the positive x-axis\n",
    "    [0, 1, 0, 0],    # No rotation around y\n",
    "    [-1, 0, 0, distance],  # Camera positioned at x = distance\n",
    "    [0, 0, 0, 1]\n",
    "        ]),\n",
    "        \"right\": np.array([\n",
    "    [0, 0, -1, 0],   # Rotate to look along the negative x-axis\n",
    "    [0, 1, 0, 0],    # No rotation around y\n",
    "    [1, 0, 0, distance],  # Camera positioned at x = distance\n",
    "    [0, 0, 0, 1]\n",
    "        ]),\n",
    "        \"top\": np.array([\n",
    "    [1, 0, 0, 0],    # No rotation around x\n",
    "    [0, 0, 1, 0],    # Rotate to look along the positive z-axis\n",
    "    [0, -1, 0, distance],  # Camera positioned at y = distance\n",
    "    [0, 0, 0, 1]\n",
    "        ]),\n",
    "        \"bottom\": np.array([\n",
    "    [1, 0, 0, 0],    # No rotation around x\n",
    "    [0, 0, -1, 0],   # Rotate to look along the negative z-axis\n",
    "    [0, 1, 0, distance],  # Camera positioned at y = distance\n",
    "    [0, 0, 0, 1]\n",
    "        ]),\n",
    "        \"front\": np.array([\n",
    "    [1, 0, 0, 0],    # No rotation around x\n",
    "    [0, 1, 0, 0],    # No rotation around y\n",
    "    [0, 0, 1, distance],  # Camera positioned at z = distance\n",
    "    [0, 0, 0, 1]\n",
    "        ]),\n",
    "        \"back\": np.array([\n",
    "    [1, 0, 0, 0],    # No rotation around x\n",
    "    [0, 1, 0, 0],    # No rotation around y\n",
    "    [0, 0, -1, distance],  # Camera positioned at z = distance\n",
    "    [0, 0, 0, 1]\n",
    "        ])\n",
    "    }\n",
    "    \n",
    "    camera_params.extrinsic = extrinsic[view_name]\n",
    "    ctr.convert_from_pinhole_camera_parameters(camera_params, allow_arbitrary=True)\n",
    "     # Set the lookat point to the center of the scene\n",
    "    ctr.set_front(views[view_name]) # Camera looking straight down the z-axis\n",
    "    if view_name in [\"top\", \"bottom\"]:\n",
    "        ctr.set_up([0, 0, 1])\n",
    "    else:\n",
    "        ctr.set_up([0, 1, 0])\n",
    "\n",
    "    visualizer.vis.poll_events()\n",
    "    visualizer.vis.update_renderer()\n",
    "    camera_params = ctr.convert_to_pinhole_camera_parameters()\n",
    "    print(camera_params.extrinsic)\n",
    "\n"
   ]
  },
  {
   "cell_type": "markdown",
   "metadata": {},
   "source": [
    "# Test on Cuboid"
   ]
  },
  {
   "cell_type": "code",
   "execution_count": 1,
   "metadata": {},
   "outputs": [
    {
     "ename": "NameError",
     "evalue": "name 'Open3DVisualizer' is not defined",
     "output_type": "error",
     "traceback": [
      "\u001b[0;31m---------------------------------------------------------------------------\u001b[0m",
      "\u001b[0;31mNameError\u001b[0m                                 Traceback (most recent call last)",
      "Cell \u001b[0;32mIn[1], line 1\u001b[0m\n\u001b[0;32m----> 1\u001b[0m visualizer \u001b[38;5;241m=\u001b[39m \u001b[43mOpen3DVisualizer\u001b[49m()\n\u001b[1;32m      2\u001b[0m cuboid_data \u001b[38;5;241m=\u001b[39m load_cuboid_data(cuboid_path)\n\u001b[1;32m      3\u001b[0m \u001b[38;5;28;01mfor\u001b[39;00m idx, component \u001b[38;5;129;01min\u001b[39;00m \u001b[38;5;28menumerate\u001b[39m(cuboid_data\u001b[38;5;241m.\u001b[39mcomponents):\n",
      "\u001b[0;31mNameError\u001b[0m: name 'Open3DVisualizer' is not defined"
     ]
    }
   ],
   "source": [
    "visualizer = Open3DVisualizer()\n",
    "cuboid_data = load_cuboid_data(cuboid_path)\n",
    "for idx, component in enumerate(cuboid_data.components):\n",
    "            visualizer.add_superquadric(\n",
    "                f\"sq_{idx}\",\n",
    "                scalings=np.array(component.scale),\n",
    "                exponents=np.array([component.epsilon1, component.epsilon2]),\n",
    "                translation=np.array(component.position),\n",
    "                rotation=np.array(component.rotation),\n",
    "                color=np.array(component.color)\n",
    "            )\n",
    "\n",
    "fixed_distance = 1.0\n",
    "set_camera_position(visualizer, center=np.array([0, 0, 0]), distance=fixed_distance, view_name=\"back\")\n",
    "visualizer.show()"
   ]
  },
  {
   "cell_type": "markdown",
   "metadata": {},
   "source": [
    "# Test on Mesh"
   ]
  },
  {
   "cell_type": "code",
   "execution_count": 8,
   "metadata": {},
   "outputs": [
    {
     "name": "stdout",
     "output_type": "stream",
     "text": [
      "\u001b[1;33m[Open3D WARNING] GLFW Error: Cocoa: Failed to find service port for display\u001b[0;m\n",
      "[Open3D INFO] Skipping non-triangle primitive geometry of type: 2\n",
      "[Open3D INFO] Skipping non-triangle primitive geometry of type: 2\n",
      "[Open3D INFO] Skipping non-triangle primitive geometry of type: 2\n",
      "[Open3D INFO] Skipping non-triangle primitive geometry of type: 2\n",
      "[Open3D INFO] Skipping non-triangle primitive geometry of type: 2\n",
      "[Open3D INFO] Skipping non-triangle primitive geometry of type: 2\n",
      "[Open3D INFO] Skipping non-triangle primitive geometry of type: 2\n",
      "[Open3D INFO] Skipping non-triangle primitive geometry of type: 2\n",
      "[Open3D INFO] Skipping non-triangle primitive geometry of type: 2\n",
      "[Open3D INFO] Skipping non-triangle primitive geometry of type: 2\n",
      "[Open3D INFO] Skipping non-triangle primitive geometry of type: 2\n",
      "[Open3D INFO] Skipping non-triangle primitive geometry of type: 2\n",
      "[Open3D INFO] Skipping non-triangle primitive geometry of type: 2\n",
      "[Open3D INFO] Skipping non-triangle primitive geometry of type: 2\n",
      "[Open3D INFO] Skipping non-triangle primitive geometry of type: 2\n",
      "[Open3D INFO] Skipping non-triangle primitive geometry of type: 2\n",
      "[Open3D INFO] Skipping non-triangle primitive geometry of type: 2\n",
      "[Open3D INFO] Skipping non-triangle primitive geometry of type: 2\n",
      "[Open3D INFO] Skipping non-triangle primitive geometry of type: 2\n",
      "[Open3D INFO] Skipping non-triangle primitive geometry of type: 2\n",
      "[Open3D INFO] Skipping non-triangle primitive geometry of type: 2\n",
      "[Open3D INFO] Skipping non-triangle primitive geometry of type: 2\n",
      "[Open3D INFO] Skipping non-triangle primitive geometry of type: 2\n",
      "[Open3D INFO] Skipping non-triangle primitive geometry of type: 2\n",
      "[Open3D INFO] Skipping non-triangle primitive geometry of type: 2\n",
      "[[ 0. -0.  1. -0.]\n",
      " [-0. -1. -0.  0.]\n",
      " [ 1. -0. -0.  1.]\n",
      " [ 0.  0.  0.  1.]]\n"
     ]
    },
    {
     "ename": "",
     "evalue": "",
     "output_type": "error",
     "traceback": [
      "\u001b[1;31mSi è verificato un arresto anomalo del Kernel durante l'esecuzione del codice nella cella attiva o in una cella precedente. \n",
      "\u001b[1;31mEsaminare il codice nelle celle per identificare una possibile causa dell'errore. \n",
      "\u001b[1;31mPer altre informazioni, fare clic<a href='https://aka.ms/vscodeJupyterKernelCrash'>qui</a>. \n",
      "\u001b[1;31mPer ulteriori dettagli, visualizzare Jupyter <a href='command:jupyter.viewOutput'>log</a>."
     ]
    }
   ],
   "source": [
    "import open3d as o3d\n",
    "\n",
    "visualizer = Open3DVisualizer()\n",
    "mesh_path = \"/Users/cmazzoleni/Documents/GitHub/CuboidAbstractionViaSeg/data/raw/03001627/4b95e968966fafc6e0675251723e1e08/models/model_normalized.obj\"\n",
    "mesh = o3d.io.read_triangle_mesh(mesh_path)\n",
    "mesh.compute_vertex_normals()\n",
    "#center the mesh\n",
    "mesh.translate(-mesh.get_center())\n",
    "visualizer.add_geometry(mesh)\n",
    "\n",
    "fixed_distance = 1.0\n",
    "set_camera_position(visualizer, center=np.array([0, 0, 0]), distance=fixed_distance, view_name=\"right\")\n",
    "visualizer.show()"
   ]
  },
  {
   "cell_type": "markdown",
   "metadata": {},
   "source": [
    "# Compare camera parameters"
   ]
  },
  {
   "cell_type": "code",
   "execution_count": null,
   "metadata": {},
   "outputs": [],
   "source": [
    "def process_file(file_path, file_extension, output_directory, file_name, visualizer):\n",
    "    if file_extension == '.json':\n",
    "        cuboid_data = load_cuboid_data(file_path)\n",
    "        for idx, component in enumerate(cuboid_data.components):\n",
    "                    visualizer.add_superquadric(\n",
    "                        f\"sq_{idx}\",\n",
    "                        scalings=np.array(component.scale),\n",
    "                        exponents=np.array([component.epsilon1, component.epsilon2]),\n",
    "                        translation=np.array(component.position),\n",
    "                        rotation=np.array(component.rotation),\n",
    "                        color=np.array(component.color)\n",
    "                    )\n",
    "    elif file_extension == '.obj':\n",
    "        mesh = load_mesh_data(file_path)\n",
    "        mesh.compute_vertex_normals()\n",
    "        visualizer.add_geometry(mesh)\n",
    "    elif file_extension == '.pcd':\n",
    "        point_cloud = load_pointcloud_data(file_path)\n",
    "        visualizer.add_geometry(point_cloud)\n",
    "    else:\n",
    "        raise ValueError(f\"Unsupported file type: {file_extension}\")\n",
    "\n",
    "    output = visualizer.save_views(file_name, views, colors, output_directory, save_camera_params=True)\n",
    "    return output"
   ]
  },
  {
   "cell_type": "code",
   "execution_count": 10,
   "metadata": {},
   "outputs": [],
   "source": [
    "visualizer = Open3DVisualizer()\n",
    "cuboid_path = \"../data/processed/chair_cuboid_json/1b81441b7e597235d61420a53a0cb96d.json\"\n",
    "output_directory = \"../data/processed/chair_cuboid_json/1b81441b7e597235d61420a53a0cb96d\"\n",
    "file_name = \"1b81441b7e597235d61420a53a0cb96d\""
   ]
  },
  {
   "cell_type": "code",
   "execution_count": 11,
   "metadata": {},
   "outputs": [
    {
     "name": "stdout",
     "output_type": "stream",
     "text": [
      "\u001b[1;33m[Open3D WARNING] Write PNG failed: unable to write file: ../data/processed/chair_cuboid_json/1b81441b7e597235d61420a53a0cb96d/1b81441b7e597235d61420a53a0cb96d_view_top.png\u001b[0;m\n",
      "\u001b[1;33m[Open3D WARNING] Write PNG failed: unable to write file: ../data/processed/chair_cuboid_json/1b81441b7e597235d61420a53a0cb96d/1b81441b7e597235d61420a53a0cb96d_view_bottom.png\u001b[0;m\n",
      "\u001b[1;33m[Open3D WARNING] Write PNG failed: unable to write file: ../data/processed/chair_cuboid_json/1b81441b7e597235d61420a53a0cb96d/1b81441b7e597235d61420a53a0cb96d_view_left.png\u001b[0;m\n",
      "\u001b[1;33m[Open3D WARNING] Write PNG failed: unable to write file: ../data/processed/chair_cuboid_json/1b81441b7e597235d61420a53a0cb96d/1b81441b7e597235d61420a53a0cb96d_view_right.png\u001b[0;m\n",
      "\u001b[1;33m[Open3D WARNING] Write PNG failed: unable to write file: ../data/processed/chair_cuboid_json/1b81441b7e597235d61420a53a0cb96d/1b81441b7e597235d61420a53a0cb96d_view_front.png\u001b[0;m\n",
      "\u001b[1;33m[Open3D WARNING] Write PNG failed: unable to write file: ../data/processed/chair_cuboid_json/1b81441b7e597235d61420a53a0cb96d/1b81441b7e597235d61420a53a0cb96d_view_back.png\u001b[0;m\n",
      "{'top': {'intrinsic': [[692.8203230275511, 0.0, 399.5], [0.0, 692.8203230275511, 399.5], [0.0, 0.0, 1.0]], 'extrinsic': [[-1.0, 0.0, 0.0, -0.0], [-0.0, -0.0, -1.0, 0.0], [-0.0, -1.0, -0.0, 0.8095728128247613], [0.0, 0.0, 0.0, 1.0]]}, 'bottom': {'intrinsic': [[692.8203230275511, 0.0, 399.5], [0.0, 692.8203230275511, 399.5], [0.0, 0.0, 1.0]], 'extrinsic': [[1.0, 0.0, -0.0, -0.0], [-0.0, -0.0, -1.0, 0.0], [-0.0, 1.0, -0.0, 0.8095728128247613], [0.0, 0.0, 0.0, 1.0]]}, 'left': {'intrinsic': [[692.8203230275511, 0.0, 399.5], [0.0, 692.8203230275511, 399.5], [0.0, 0.0, 1.0]], 'extrinsic': [[0.0, 0.0, -1.0, -0.0], [-0.0, -1.0, -0.0, 0.0], [-1.0, -0.0, -0.0, 0.8095728128247613], [0.0, 0.0, 0.0, 1.0]]}, 'right': {'intrinsic': [[692.8203230275511, 0.0, 399.5], [0.0, 692.8203230275511, 399.5], [0.0, 0.0, 1.0]], 'extrinsic': [[0.0, -0.0, 1.0, -0.0], [-0.0, -1.0, -0.0, 0.0], [1.0, -0.0, -0.0, 0.8095728128247613], [0.0, 0.0, 0.0, 1.0]]}, 'front': {'intrinsic': [[692.8203230275511, 0.0, 399.5], [0.0, 692.8203230275511, 399.5], [0.0, 0.0, 1.0]], 'extrinsic': [[-1.0, 0.0, 0.0, -0.0], [-0.0, -1.0, -0.0, 0.0], [-0.0, -0.0, 1.0, 0.8095728128247613], [0.0, 0.0, 0.0, 1.0]]}, 'back': {'intrinsic': [[692.8203230275511, 0.0, 399.5], [0.0, 692.8203230275511, 399.5], [0.0, 0.0, 1.0]], 'extrinsic': [[1.0, 0.0, 0.0, -0.0], [-0.0, -1.0, -0.0, 0.0], [-0.0, -0.0, -1.0, 0.8095728128247613], [0.0, 0.0, 0.0, 1.0]]}}\n"
     ]
    }
   ],
   "source": [
    "\n",
    "output_json = process_file(cuboid_path, '.json', output_directory, file_name, visualizer)\n",
    "print(output_json['camera_parameters'])    "
   ]
  },
  {
   "cell_type": "code",
   "execution_count": 12,
   "metadata": {},
   "outputs": [
    {
     "name": "stdout",
     "output_type": "stream",
     "text": [
      "\u001b[1;33m[Open3D WARNING] Write PNG failed: unable to write file: ../data/processed/chair_cuboid_json/1b81441b7e597235d61420a53a0cb96d/1b81441b7e597235d61420a53a0cb96d_view_top.png\u001b[0;m\n",
      "\u001b[1;33m[Open3D WARNING] Write PNG failed: unable to write file: ../data/processed/chair_cuboid_json/1b81441b7e597235d61420a53a0cb96d/1b81441b7e597235d61420a53a0cb96d_view_bottom.png\u001b[0;m\n",
      "\u001b[1;33m[Open3D WARNING] Write PNG failed: unable to write file: ../data/processed/chair_cuboid_json/1b81441b7e597235d61420a53a0cb96d/1b81441b7e597235d61420a53a0cb96d_view_left.png\u001b[0;m\n",
      "\u001b[1;33m[Open3D WARNING] Write PNG failed: unable to write file: ../data/processed/chair_cuboid_json/1b81441b7e597235d61420a53a0cb96d/1b81441b7e597235d61420a53a0cb96d_view_right.png\u001b[0;m\n",
      "\u001b[1;33m[Open3D WARNING] Write PNG failed: unable to write file: ../data/processed/chair_cuboid_json/1b81441b7e597235d61420a53a0cb96d/1b81441b7e597235d61420a53a0cb96d_view_front.png\u001b[0;m\n",
      "\u001b[1;33m[Open3D WARNING] Write PNG failed: unable to write file: ../data/processed/chair_cuboid_json/1b81441b7e597235d61420a53a0cb96d/1b81441b7e597235d61420a53a0cb96d_view_back.png\u001b[0;m\n",
      "{'top': {'intrinsic': [[692.8203230275511, 0.0, 399.5], [0.0, 692.8203230275511, 399.5], [0.0, 0.0, 1.0]], 'extrinsic': [[-1.0, 0.0, 0.0, -0.0], [-0.0, -0.0, -1.0, 0.0], [-0.0, -1.0, -0.0, 0.8095728128247613], [0.0, 0.0, 0.0, 1.0]]}, 'bottom': {'intrinsic': [[692.8203230275511, 0.0, 399.5], [0.0, 692.8203230275511, 399.5], [0.0, 0.0, 1.0]], 'extrinsic': [[1.0, 0.0, -0.0, -0.0], [-0.0, -0.0, -1.0, 0.0], [-0.0, 1.0, -0.0, 0.8095728128247613], [0.0, 0.0, 0.0, 1.0]]}, 'left': {'intrinsic': [[692.8203230275511, 0.0, 399.5], [0.0, 692.8203230275511, 399.5], [0.0, 0.0, 1.0]], 'extrinsic': [[0.0, 0.0, -1.0, -0.0], [-0.0, -1.0, -0.0, 0.0], [-1.0, -0.0, -0.0, 0.8095728128247613], [0.0, 0.0, 0.0, 1.0]]}, 'right': {'intrinsic': [[692.8203230275511, 0.0, 399.5], [0.0, 692.8203230275511, 399.5], [0.0, 0.0, 1.0]], 'extrinsic': [[0.0, -0.0, 1.0, -0.0], [-0.0, -1.0, -0.0, 0.0], [1.0, -0.0, -0.0, 0.8095728128247613], [0.0, 0.0, 0.0, 1.0]]}, 'front': {'intrinsic': [[692.8203230275511, 0.0, 399.5], [0.0, 692.8203230275511, 399.5], [0.0, 0.0, 1.0]], 'extrinsic': [[-1.0, 0.0, 0.0, -0.0], [-0.0, -1.0, -0.0, 0.0], [-0.0, -0.0, 1.0, 0.8095728128247613], [0.0, 0.0, 0.0, 1.0]]}, 'back': {'intrinsic': [[692.8203230275511, 0.0, 399.5], [0.0, 692.8203230275511, 399.5], [0.0, 0.0, 1.0]], 'extrinsic': [[1.0, 0.0, 0.0, -0.0], [-0.0, -1.0, -0.0, 0.0], [-0.0, -0.0, -1.0, 0.8095728128247613], [0.0, 0.0, 0.0, 1.0]]}}\n"
     ]
    }
   ],
   "source": [
    "mesh_path =\"/Users/cmazzoleni/Documents/GitHub/CuboidAbstractionViaSeg/data/raw/03001627/1b81441b7e597235d61420a53a0cb96d/models/model_normalized.obj\"\n",
    "output_mesh = process_file(mesh_path, '.obj', output_directory, file_name, visualizer)\n",
    "print(output_json['camera_parameters'])    "
   ]
  },
  {
   "cell_type": "code",
   "execution_count": 13,
   "metadata": {},
   "outputs": [
    {
     "name": "stdout",
     "output_type": "stream",
     "text": [
      "Camera parameters for view 'top' do not match between JSON and Mesh.\n",
      "Camera parameters for view 'bottom' do not match between JSON and Mesh.\n",
      "Camera parameters for view 'left' do not match between JSON and Mesh.\n",
      "Camera parameters for view 'right' do not match between JSON and Mesh.\n",
      "Camera parameters for view 'front' do not match between JSON and Mesh.\n",
      "Camera parameters for view 'back' do not match between JSON and Mesh.\n"
     ]
    }
   ],
   "source": [
    " # Compare camera parameters between JSON and Mesh outputs\n",
    "camera_params_match = True\n",
    "for view in output_json['camera_parameters']:\n",
    "    if output_json['camera_parameters'][view] != output_mesh['camera_parameters'][view]:\n",
    "        print(f\"Camera parameters for view '{view}' do not match between JSON and Mesh.\")\n",
    "        camera_params_match = False"
   ]
  },
  {
   "cell_type": "code",
   "execution_count": 14,
   "metadata": {},
   "outputs": [
    {
     "name": "stdout",
     "output_type": "stream",
     "text": [
      "\n",
      "Camera parameters for view 'top' do not match between JSON and Mesh.\n",
      "--- Differences for view 'top' ---\n",
      "\n",
      "Difference in 'extrinsic':\n",
      "JSON: [   [-1.0, 0.0, 0.0, -0.0],\n",
      "    [-0.0, -0.0, -1.0, 0.0],\n",
      "    [-0.0, -1.0, -0.0, 0.8095728128247613],\n",
      "    [0.0, 0.0, 0.0, 1.0]]\n",
      "Mesh: [   [-1.0, 0.0, 0.0, -0.0],\n",
      "    [-0.0, -0.0, -1.0, 0.0],\n",
      "    [-0.0, -1.0, -0.0, 0.9259228165158423],\n",
      "    [0.0, 0.0, 0.0, 1.0]]\n",
      "\n",
      "Camera parameters for view 'bottom' do not match between JSON and Mesh.\n",
      "--- Differences for view 'bottom' ---\n",
      "\n",
      "Difference in 'extrinsic':\n",
      "JSON: [   [1.0, 0.0, -0.0, -0.0],\n",
      "    [-0.0, -0.0, -1.0, 0.0],\n",
      "    [-0.0, 1.0, -0.0, 0.8095728128247613],\n",
      "    [0.0, 0.0, 0.0, 1.0]]\n",
      "Mesh: [   [1.0, 0.0, -0.0, -0.0],\n",
      "    [-0.0, -0.0, -1.0, 0.0],\n",
      "    [-0.0, 1.0, -0.0, 0.9259228165158423],\n",
      "    [0.0, 0.0, 0.0, 1.0]]\n",
      "\n",
      "Camera parameters for view 'left' do not match between JSON and Mesh.\n",
      "--- Differences for view 'left' ---\n",
      "\n",
      "Difference in 'extrinsic':\n",
      "JSON: [   [0.0, 0.0, -1.0, -0.0],\n",
      "    [-0.0, -1.0, -0.0, 0.0],\n",
      "    [-1.0, -0.0, -0.0, 0.8095728128247613],\n",
      "    [0.0, 0.0, 0.0, 1.0]]\n",
      "Mesh: [   [0.0, 0.0, -1.0, -0.0],\n",
      "    [-0.0, -1.0, -0.0, 0.0],\n",
      "    [-1.0, -0.0, -0.0, 0.9259228165158423],\n",
      "    [0.0, 0.0, 0.0, 1.0]]\n",
      "\n",
      "Camera parameters for view 'right' do not match between JSON and Mesh.\n",
      "--- Differences for view 'right' ---\n",
      "\n",
      "Difference in 'extrinsic':\n",
      "JSON: [   [0.0, -0.0, 1.0, -0.0],\n",
      "    [-0.0, -1.0, -0.0, 0.0],\n",
      "    [1.0, -0.0, -0.0, 0.8095728128247613],\n",
      "    [0.0, 0.0, 0.0, 1.0]]\n",
      "Mesh: [   [0.0, -0.0, 1.0, -0.0],\n",
      "    [-0.0, -1.0, -0.0, 0.0],\n",
      "    [1.0, -0.0, -0.0, 0.9259228165158423],\n",
      "    [0.0, 0.0, 0.0, 1.0]]\n",
      "\n",
      "Camera parameters for view 'front' do not match between JSON and Mesh.\n",
      "--- Differences for view 'front' ---\n",
      "\n",
      "Difference in 'extrinsic':\n",
      "JSON: [   [-1.0, 0.0, 0.0, -0.0],\n",
      "    [-0.0, -1.0, -0.0, 0.0],\n",
      "    [-0.0, -0.0, 1.0, 0.8095728128247613],\n",
      "    [0.0, 0.0, 0.0, 1.0]]\n",
      "Mesh: [   [-1.0, 0.0, 0.0, -0.0],\n",
      "    [-0.0, -1.0, -0.0, 0.0],\n",
      "    [-0.0, -0.0, 1.0, 0.9259228165158423],\n",
      "    [0.0, 0.0, 0.0, 1.0]]\n",
      "\n",
      "Camera parameters for view 'back' do not match between JSON and Mesh.\n",
      "--- Differences for view 'back' ---\n",
      "\n",
      "Difference in 'extrinsic':\n",
      "JSON: [   [1.0, 0.0, 0.0, -0.0],\n",
      "    [-0.0, -1.0, -0.0, 0.0],\n",
      "    [-0.0, -0.0, -1.0, 0.8095728128247613],\n",
      "    [0.0, 0.0, 0.0, 1.0]]\n",
      "Mesh: [   [1.0, 0.0, 0.0, -0.0],\n",
      "    [-0.0, -1.0, -0.0, 0.0],\n",
      "    [-0.0, -0.0, -1.0, 0.9259228165158423],\n",
      "    [0.0, 0.0, 0.0, 1.0]]\n",
      "\n",
      "Camera parameters do not match for some views. See details above.\n"
     ]
    },
    {
     "ename": "",
     "evalue": "",
     "output_type": "error",
     "traceback": [
      "\u001b[1;31mSi è verificato un arresto anomalo del Kernel durante l'esecuzione del codice nella cella attiva o in una cella precedente. \n",
      "\u001b[1;31mEsaminare il codice nelle celle per identificare una possibile causa dell'errore. \n",
      "\u001b[1;31mPer altre informazioni, fare clic<a href='https://aka.ms/vscodeJupyterKernelCrash'>qui</a>. \n",
      "\u001b[1;31mPer ulteriori dettagli, visualizzare Jupyter <a href='command:jupyter.viewOutput'>log</a>."
     ]
    }
   ],
   "source": [
    "\n",
    "# Initialize a flag to check if all parameters match\n",
    "camera_params_match = True\n",
    "\n",
    "# Create a pretty printer for better visualization of differences\n",
    "pp = pprint.PrettyPrinter(indent=4)\n",
    "\n",
    "# Iterate through each view in the camera parameters\n",
    "for view in output_json['camera_parameters']:\n",
    "    json_params = output_json['camera_parameters'][view]\n",
    "    mesh_params = output_mesh['camera_parameters'][view]\n",
    "    \n",
    "    # Check if parameters match for this view\n",
    "    if json_params != mesh_params:\n",
    "        print(f\"\\nCamera parameters for view '{view}' do not match between JSON and Mesh.\")\n",
    "        camera_params_match = False\n",
    "        \n",
    "        # Print detailed differences for this view\n",
    "        print(f\"--- Differences for view '{view}' ---\")\n",
    "        \n",
    "        # Compare each component of the camera parameters\n",
    "        for key in json_params:\n",
    "            if json_params[key] != mesh_params[key]:\n",
    "                print(f\"\\nDifference in '{key}':\")\n",
    "                print(f\"JSON: {pp.pformat(json_params[key])}\")\n",
    "                print(f\"Mesh: {pp.pformat(mesh_params[key])}\")\n",
    "\n",
    "# Final output to confirm if all parameters matched or not\n",
    "if camera_params_match:\n",
    "    print(\"Camera parameters match for all views between JSON and Mesh.\")\n",
    "else:\n",
    "    print(\"\\nCamera parameters do not match for some views. See details above.\")\n"
   ]
  }
 ],
 "metadata": {
  "kernelspec": {
   "display_name": "primitivedifformation_venv",
   "language": "python",
   "name": "primitivedifformation_venv"
  },
  "language_info": {
   "codemirror_mode": {
    "name": "ipython",
    "version": 3
   },
   "file_extension": ".py",
   "mimetype": "text/x-python",
   "name": "python",
   "nbconvert_exporter": "python",
   "pygments_lexer": "ipython3",
   "version": "3.11.9"
  }
 },
 "nbformat": 4,
 "nbformat_minor": 2
}
