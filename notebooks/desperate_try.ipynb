{
 "cells": [
  {
   "cell_type": "code",
   "execution_count": 7,
   "metadata": {},
   "outputs": [
    {
     "name": "stdout",
     "output_type": "stream",
     "text": [
      "Reconstructed point cloud saved to reconstructed_pointcloud.ply\n",
      "\u001b[1;33m[Open3D WARNING] GLFW Error: Cocoa: Failed to find service port for display\u001b[0;m\n",
      "\u001b[1;33m[Open3D WARNING] GLFW Error: Cocoa: Failed to find service port for display\u001b[0;m\n"
     ]
    },
    {
     "ename": "KeyboardInterrupt",
     "evalue": "",
     "output_type": "error",
     "traceback": [
      "\u001b[0;31m---------------------------------------------------------------------------\u001b[0m",
      "\u001b[0;31mKeyboardInterrupt\u001b[0m                         Traceback (most recent call last)",
      "Cell \u001b[0;32mIn[7], line 43\u001b[0m\n\u001b[1;32m     40\u001b[0m \u001b[38;5;28mprint\u001b[39m(\u001b[38;5;124mf\u001b[39m\u001b[38;5;124m\"\u001b[39m\u001b[38;5;124mReconstructed point cloud saved to \u001b[39m\u001b[38;5;132;01m{\u001b[39;00moutput_pointcloud_filename\u001b[38;5;132;01m}\u001b[39;00m\u001b[38;5;124m\"\u001b[39m)\n\u001b[1;32m     42\u001b[0m \u001b[38;5;66;03m# Visualize the point cloud\u001b[39;00m\n\u001b[0;32m---> 43\u001b[0m \u001b[43mo3d\u001b[49m\u001b[38;5;241;43m.\u001b[39;49m\u001b[43mvisualization\u001b[49m\u001b[38;5;241;43m.\u001b[39;49m\u001b[43mdraw_geometries\u001b[49m\u001b[43m(\u001b[49m\u001b[43m[\u001b[49m\u001b[43mpcd\u001b[49m\u001b[43m]\u001b[49m\u001b[43m)\u001b[49m\n",
      "\u001b[0;31mKeyboardInterrupt\u001b[0m: "
     ]
    }
   ],
   "source": [
    "import open3d as o3d\n",
    "import numpy as np\n",
    "\n",
    "depth_filename = \"try_encode-2.png\"  # The raw depth image file\n",
    "output_pointcloud_filename = \"reconstructed_pointcloud.ply\"\n",
    "\n",
    "# Step 1: Load the depth image (assuming you already have the depth image)\n",
    "depth_image = o3d.io.read_image(depth_filename)\n",
    "depth_array = np.asarray(depth_image)\n",
    "\n",
    "# Check if the depth image is in 16-bit format and properly scaled\n",
    "# If depth is stored in millimeters (common), you need to scale it to meters for Open3D\n",
    "depth_array = depth_array.astype(np.float32) / 65535.0 *1000 # Convert from mm to meters if necessary\n",
    "\n",
    "# Step 3: Save the modified depth image in a different format (16-bit PNG)\n",
    "new_depth_image = o3d.geometry.Image(depth_array.astype(np.uint16))  # Convert to 16-bit\n",
    "o3d.io.write_image(\"modified_depth_image.png\", new_depth_image)\n",
    "\n",
    "# Step 4: Reconstruct the point cloud from the modified depth image\n",
    "width = 800  # Image width\n",
    "height = 800  # Image height\n",
    "fx = 692.82  # Focal length in x direction\n",
    "fy = 692.82  # Focal length in y direction\n",
    "cx = width / 2.0  # Principal point in x direction\n",
    "cy = height / 2.0  # Principal point in y direction\n",
    "\n",
    "# Create an intrinsic matrix for the camera\n",
    "intrinsic = o3d.camera.PinholeCameraIntrinsic(width, height, fx, fy, cx, cy)\n",
    "\n",
    "# Convert the depth image to a point cloud using Open3D's create_from_depth_image\n",
    "# We assume the depth_image is now scaled properly in meters\n",
    "pcd = o3d.geometry.PointCloud.create_from_depth_image(\n",
    "    o3d.geometry.Image(depth_array.astype(np.float32)),  # Ensure it's in meters\n",
    "    intrinsic,\n",
    "    extrinsic=np.identity(4),  # Assuming the depth is already in meter# Truncate depths greater than 3 meters (adjust as needed)\n",
    ")\n",
    "\n",
    "# Save the reconstructed point cloud to a file\n",
    "o3d.io.write_point_cloud(output_pointcloud_filename, pcd)\n",
    "print(f\"Reconstructed point cloud saved to {output_pointcloud_filename}\")\n",
    "\n",
    "# Visualize the point cloud\n",
    "o3d.visualization.draw_geometries([pcd])"
   ]
  },
  {
   "cell_type": "code",
   "execution_count": 8,
   "metadata": {},
   "outputs": [
    {
     "name": "stdout",
     "output_type": "stream",
     "text": [
      "0.0\n",
      "1000.0\n",
      "74.963646\n"
     ]
    }
   ],
   "source": [
    "#inspect the image, like min max and so on\n",
    "print(np.min(depth_array))\n",
    "print(np.max(depth_array))\n",
    "print(np.mean(depth_array))\n"
   ]
  },
  {
   "cell_type": "code",
   "execution_count": 9,
   "metadata": {},
   "outputs": [
    {
     "name": "stdout",
     "output_type": "stream",
     "text": [
      "(800, 800)\n"
     ]
    }
   ],
   "source": [
    "\n",
    "depth_filename = \"modified_depth_image.png\"  # The raw depth image file\n",
    "depth_image = o3d.io.read_image(depth_filename)\n",
    "depth_array = np.asarray(depth_image)\n",
    "\n",
    "print(depth_array.shape)"
   ]
  },
  {
   "cell_type": "code",
   "execution_count": 10,
   "metadata": {},
   "outputs": [
    {
     "name": "stdout",
     "output_type": "stream",
     "text": [
      "(800, 800)\n"
     ]
    },
    {
     "ename": "",
     "evalue": "",
     "output_type": "error",
     "traceback": [
      "\u001b[1;31mSi è verificato un arresto anomalo del Kernel durante l'esecuzione del codice nella cella attiva o in una cella precedente. \n",
      "\u001b[1;31mEsaminare il codice nelle celle per identificare una possibile causa dell'errore. \n",
      "\u001b[1;31mPer altre informazioni, fare clic<a href='https://aka.ms/vscodeJupyterKernelCrash'>qui</a>. \n",
      "\u001b[1;31mPer ulteriori dettagli, visualizzare Jupyter <a href='command:jupyter.viewOutput'>log</a>."
     ]
    }
   ],
   "source": [
    "\n",
    "depth_filename = \"front_view_depth_o3d_cuboid.png\"  # The raw depth image file\n",
    "depth_image = o3d.io.read_image(depth_filename)\n",
    "depth_array = np.asarray(depth_image)\n",
    "\n",
    "print(depth_array.shape)"
   ]
  }
 ],
 "metadata": {
  "kernelspec": {
   "display_name": "myenv",
   "language": "python",
   "name": "python3"
  },
  "language_info": {
   "codemirror_mode": {
    "name": "ipython",
    "version": 3
   },
   "file_extension": ".py",
   "mimetype": "text/x-python",
   "name": "python",
   "nbconvert_exporter": "python",
   "pygments_lexer": "ipython3",
   "version": "3.11.0"
  }
 },
 "nbformat": 4,
 "nbformat_minor": 2
}
